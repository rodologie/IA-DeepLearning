{
 "cells": [
  {
   "cell_type": "code",
   "execution_count": null,
   "id": "cee30251-f47d-405a-8045-82ea328f742a",
   "metadata": {},
   "outputs": [],
   "source": [
    "import numpy as np\n",
    "import tensorflow as tf\n",
    "from tensorflow.keras.callbacks import EarlyStopping, ModelCheckpoint\n",
    "from tensorflow.keras.layers import Dense\n",
    "from tensorflow.keras.models import Sequential\n",
    "from sklearn.model_selection import train_test_split\n",
    "from sklearn.preprocessing import OneHotEncoder\n",
    "from sklearn.datasets import load_iris\n",
    "import matplotlib.pyplot as plt"
   ]
  },
  {
   "cell_type": "code",
   "execution_count": null,
   "id": "5a8521a3-dc9a-4243-bc33-41b12e59c45c",
   "metadata": {},
   "outputs": [],
   "source": [
    "# 1. Préparation des données\n",
    "# Charger le jeu de données IRIS\n",
    "data = load_iris()\n",
    "X = data.data  # Les caractéristiques\n",
    "y = data.target.reshape(-1, 1)  # Les étiquettes\n",
    "\n",
    "# Encodage en one-hot des étiquettes\n",
    "encoder = OneHotEncoder(sparse_output=False)\n",
    "y_encoded = encoder.fit_transform(y)\n",
    "\n",
    "# Division en ensembles d'entraînement et de test\n",
    "X_train, X_test, y_train, y_test = train_test_split(X, y_encoded, test_size=0.2, random_state=42)\n",
    "\n",
    "# Normalisation des données\n",
    "mean = X_train.mean(axis=0)\n",
    "std = X_train.std(axis=0)\n",
    "X_train = (X_train - mean) / std\n",
    "X_test = (X_test - mean) / std"
   ]
  },
  {
   "cell_type": "code",
   "execution_count": null,
   "id": "61fa4b44-9969-4bfb-8c81-f58aab08859a",
   "metadata": {},
   "outputs": [],
   "source": [
    "# 2. Création du modèle\n",
    "model = Sequential([\n",
    "    Dense(10, activation='relu', input_shape=(X.shape[1],)),\n",
    "    Dense(10, activation='relu'),\n",
    "    Dense(3, activation='softmax')\n",
    "])\n",
    "\n",
    "# Compilation du modèle\n",
    "model.compile(optimizer='adam',\n",
    "              loss='categorical_crossentropy',\n",
    "              metrics=['accuracy'])"
   ]
  },
  {
   "cell_type": "code",
   "execution_count": null,
   "id": "0eabfd8b-e763-4647-b735-40d9e078a987",
   "metadata": {},
   "outputs": [],
   "source": [
    "# 3. Définition des callbacks\n",
    "# Arrêt anticipé pour éviter le surapprentissage\n",
    "early_stopping = EarlyStopping(monitor='val_loss', patience=5, restore_best_weights=True)\n",
    "\n",
    "# Sauvegarde du meilleur modèle\n",
    "checkpoint = ModelCheckpoint('best_model.keras', monitor='val_loss', save_best_only=True)"
   ]
  },
  {
   "cell_type": "code",
   "execution_count": null,
   "id": "4f43e530-c770-4def-b3f4-24a241201283",
   "metadata": {},
   "outputs": [],
   "source": [
    "# 4. Entraînement du modèle\n",
    "history = model.fit(X_train, y_train,\n",
    "                    validation_split=0.2,\n",
    "                    epochs=100,\n",
    "                    batch_size=4,\n",
    "                    callbacks=[early_stopping, checkpoint])"
   ]
  },
  {
   "cell_type": "code",
   "execution_count": null,
   "id": "c7e908a8-66a3-47f1-a5fe-1aa545aebaf2",
   "metadata": {},
   "outputs": [],
   "source": [
    "# 5. Évaluation du modèle\n",
    "test_loss, test_accuracy = model.evaluate(X_test, y_test)\n",
    "print(f\"Test Loss: {test_loss:.4f}\")\n",
    "print(f\"Test Accuracy: {test_accuracy:.4f}\")"
   ]
  },
  {
   "cell_type": "code",
   "execution_count": null,
   "id": "803b7632-a51f-448e-aa82-d8b64704f0cd",
   "metadata": {},
   "outputs": [],
   "source": [
    "# 6. Visualisation des performances\n",
    "# Visualisation de la courbe de perte et de précision\n",
    "plt.figure(figsize=(12, 5))\n",
    "\n",
    "# Courbe de perte\n",
    "plt.subplot(1, 2, 1)\n",
    "plt.plot(history.history['loss'], label='Train Loss')\n",
    "plt.plot(history.history['val_loss'], label='Validation Loss')\n",
    "plt.xlabel('Epochs')\n",
    "plt.ylabel('Loss')\n",
    "plt.title('Courbe de perte')\n",
    "plt.legend()\n",
    "\n",
    "# Courbe de précision\n",
    "plt.subplot(1, 2, 2)\n",
    "plt.plot(history.history['accuracy'], label='Train Accuracy')\n",
    "plt.plot(history.history['val_accuracy'], label='Validation Accuracy')\n",
    "plt.xlabel('Epochs')\n",
    "plt.ylabel('Accuracy')\n",
    "plt.title('Courbe de précision')\n",
    "plt.legend()\n",
    "\n",
    "plt.show()\n",
    "\n",
    "# 7. Chargement du meilleur modèle sauvegardé et prédiction\n",
    "best_model = tf.keras.models.load_model('best_model.keras')\n",
    "\n",
    "# Prédiction sur les données de test\n",
    "y_pred = best_model.predict(X_test)\n",
    "y_pred_classes = np.argmax(y_pred, axis=1)\n",
    "y_true_classes = np.argmax(y_test, axis=1)\n",
    "\n",
    "# Affichage de quelques prédictions pour vérifier le modèle\n",
    "print(\"Vraies classes:\", y_true_classes)\n",
    "print(\"Classes prédites:\", y_pred_classes)"
   ]
  }
 ],
 "metadata": {
  "kernelspec": {
   "display_name": "Python 3 (ipykernel)",
   "language": "python",
   "name": "python3"
  },
  "language_info": {
   "codemirror_mode": {
    "name": "ipython",
    "version": 3
   },
   "file_extension": ".py",
   "mimetype": "text/x-python",
   "name": "python",
   "nbconvert_exporter": "python",
   "pygments_lexer": "ipython3",
   "version": "3.10.12"
  }
 },
 "nbformat": 4,
 "nbformat_minor": 5
}
