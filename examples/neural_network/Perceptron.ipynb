{
 "cells": [
  {
   "cell_type": "code",
   "execution_count": null,
   "id": "5b7b679d-4738-4feb-bdf0-694777830f8f",
   "metadata": {},
   "outputs": [],
   "source": [
    "import numpy as np\n",
    "import matplotlib.pyplot as plt\n",
    "from IPython.display import clear_output"
   ]
  },
  {
   "cell_type": "code",
   "execution_count": null,
   "id": "9c552fa8-0fa3-4885-89e9-1b20b3a3e156",
   "metadata": {},
   "outputs": [],
   "source": [
    "class Perceptron:\n",
    "    def __init__(self, taux_apprentissage=0.01, n_iterations=10):\n",
    "        self.taux_apprentissage = taux_apprentissage\n",
    "        self.n_iterations = n_iterations\n",
    "        self.poids = None\n",
    "        self.biais = None\n",
    "        self.historique_poids = []\n",
    "        self.historique_biais = []\n",
    "\n",
    "    def ajuster(self, X, y):\n",
    "        n_exemples, n_caracteristiques = X.shape\n",
    "        self.poids = np.zeros(n_caracteristiques)\n",
    "        self.biais = 0\n",
    "\n",
    "        for epoch in range(self.n_iterations):\n",
    "            for i in range(n_exemples):\n",
    "                ligne = X[i]\n",
    "                y_calculé = np.dot(ligne, self.poids) + self.biais\n",
    "                prediction = 1 if y_calculé >= 0 else 0\n",
    "                erreur = y[i] - prediction\n",
    "\n",
    "                # Mise à jour des poids et biais\n",
    "                self.poids += self.taux_apprentissage * erreur * ligne\n",
    "                self.biais += self.taux_apprentissage * erreur\n",
    "\n",
    "                # Enregistrement des poids et biais\n",
    "                self.historique_poids.append(self.poids.copy())\n",
    "                self.historique_biais.append(self.biais)\n",
    "\n",
    "        # Visualisation de la frontière de décision pour chaque époque\n",
    "        self.visualiser_frontiere(X, y)\n",
    "\n",
    "    def predire(self, X):\n",
    "        y_calculé = np.dot(X, self.poids) + self.biais\n",
    "        return np.where(y_calculé >= 0, 1, 0)\n",
    "\n",
    "    def visualiser_frontiere(self, X, y):\n",
    "        clear_output(wait=True)  # Efface l'affichage précédent pour une animation continue\n",
    "\n",
    "        # Configuration des subplots\n",
    "        ncols = 2\n",
    "        nrows = (self.n_iterations + 1) // ncols  # Calculer le nombre de lignes nécessaires\n",
    "        fig, axes = plt.subplots(nrows=nrows, ncols=ncols, figsize=(12, 6 * nrows))\n",
    "        axes = axes.ravel()  # Aplatir pour un accès facile aux axes\n",
    "\n",
    "        x_min, x_max = X[:, 0].min() - 1, X[:, 0].max() + 1\n",
    "        y_min, y_max = X[:, 1].min() - 1, X[:, 1].max() + 1\n",
    "        x_values = np.linspace(x_min, x_max, 100)\n",
    "\n",
    "        for epoch in range(self.n_iterations):\n",
    "            # Obtenir les poids et biais actuels pour cette époque\n",
    "            poids = self.historique_poids[epoch]\n",
    "            biais = self.historique_biais[epoch]\n",
    "\n",
    "            ax = axes[epoch]\n",
    "            ax.scatter(X[y == 0][:, 0], X[y == 0][:, 1], color='blue', marker='o', label=\"Classe 0\")\n",
    "            ax.scatter(X[y == 1][:, 0], X[y == 1][:, 1], color='red', marker='x', label=\"Classe 1\")\n",
    "\n",
    "            # Calcul de la frontière de décision : x2 = -(w1*x1 + b) / w2\n",
    "            if poids[1] != 0:  # Éviter la division par zéro\n",
    "                y_values = -(poids[0] * x_values + biais) / poids[1]\n",
    "                ax.plot(x_values, y_values, color=\"black\", linestyle=\"--\", label=\"Frontière de décision\")\n",
    "\n",
    "            ax.set_xlim(x_min, x_max)\n",
    "            ax.set_ylim(y_min, y_max)\n",
    "            ax.set_xlabel(\"x1\")\n",
    "            ax.set_ylabel(\"x2\")\n",
    "            ax.set_title(f\"Époque {epoch + 1}\")\n",
    "            ax.legend()\n",
    "\n",
    "        plt.tight_layout()\n",
    "        plt.show()"
   ]
  },
  {
   "cell_type": "code",
   "execution_count": null,
   "id": "0e406e07-06ca-48eb-a845-74b6115b4b7f",
   "metadata": {},
   "outputs": [],
   "source": [
    "# Données d'exemple\n",
    "X = np.array([[1, 1], [2, 2], [1.5, 1.5], [0, 0], [0.5, 0.5], [1, 0]])\n",
    "y = np.array([1, 1, 1, 0, 0, 0])"
   ]
  },
  {
   "cell_type": "code",
   "execution_count": null,
   "id": "ea1edf4a-cb70-4ef7-bc89-bdb6afb3381e",
   "metadata": {},
   "outputs": [],
   "source": [
    "# Création et entraînement du perceptron avec visualisation dynamique\n",
    "perceptron = Perceptron(taux_apprentissage=0.1, n_iterations=16)\n",
    "perceptron.ajuster(X, y)"
   ]
  }
 ],
 "metadata": {
  "kernelspec": {
   "display_name": "Python 3 (ipykernel)",
   "language": "python",
   "name": "python3"
  },
  "language_info": {
   "codemirror_mode": {
    "name": "ipython",
    "version": 3
   },
   "file_extension": ".py",
   "mimetype": "text/x-python",
   "name": "python",
   "nbconvert_exporter": "python",
   "pygments_lexer": "ipython3",
   "version": "3.10.12"
  }
 },
 "nbformat": 4,
 "nbformat_minor": 5
}
