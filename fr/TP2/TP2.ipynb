{
 "cells": [
  {
   "cell_type": "markdown",
   "metadata": {},
   "source": [
    "# Travaux pratiques 2\n",
    "\n",
    "**Année: 2024-2025**\n",
    "\n",
    "## Objectifs\n",
    "\n",
    "1. **Modélisation de connaissances et interrogation de données** : Utiliser un langage logique pour structurer une base de connaissances et créer des règles permettant d’extraire des informations spécifiques à partir des données.\n",
    "\n",
    "2. **Classification de textes et d'images** : Concevoir et entraîner des modèles de réseaux de neurones pour la classification de textes (exercice 2.2) et d'images (exercice 2.4), en maîtrisant le prétraitement des données, l'optimisation des hyperparamètres, et l'évaluation des performances des modèles.\n",
    "\n",
    "3. **Prédiction de séquences** : Développer un modèle de prédiction pour des séquences de traductions, en appliquant des techniques de préparation de données séquentielles et en évaluant les performances du modèle sur des données de test."
   ]
  },
  {
   "cell_type": "markdown",
   "metadata": {},
   "source": [
    "- Faits\n",
    "    - `eleve(Nom, Prenom, DateNaissance)`: Informations personnelles des élèves.\n",
    "    - `groupe_projet(Eleve, Groupe)`: Groupes de projet auxquels les élèves appartiennent.\n",
    "    - `note(Eleve, Module, Note)`: Notes des élèves dans différents modules.\n",
    "    - `module(NomModule, Description)`: Liste des modules avec leur nom et description.\n",
    "- Règles\n",
    "    - `eleves_groupe(Groupe, Eleves)`: Trouver tous les élèves d’un groupe de projet spécifique.\n",
    "    - `moyenne_notes(Eleve, Module, Moyenne)`: Calculer la moyenne des notes d’un élève dans un module.\n",
    "    - `modules_suivis(Eleve, Modules)`: Lister les modules suivis par un élève.\n",
    "\n",
    "- Exemples de requetes pour questionner la base de connaissance:\n",
    "    - `?- eleves_groupe('Groupe1', Eleves).`\n",
    "    - `?- moyenne_notes('Dupont', 'Math', Moyenne).`\n",
    "    - `?- modules_suivis('Martin', Modules).`\n"
   ]
  },
  {
   "cell_type": "markdown",
   "metadata": {},
   "source": [
    "# Exercice 2.2"
   ]
  },
  {
   "cell_type": "code",
   "execution_count": 32,
   "metadata": {},
   "outputs": [
    {
     "name": "stdout",
     "output_type": "stream",
     "text": [
      "Requirement already satisfied: tensorflow in /Library/Frameworks/Python.framework/Versions/3.12/lib/python3.12/site-packages (2.18.0)\n",
      "Requirement already satisfied: absl-py>=1.0.0 in /Library/Frameworks/Python.framework/Versions/3.12/lib/python3.12/site-packages (from tensorflow) (2.1.0)\n",
      "Requirement already satisfied: astunparse>=1.6.0 in /Library/Frameworks/Python.framework/Versions/3.12/lib/python3.12/site-packages (from tensorflow) (1.6.3)\n",
      "Requirement already satisfied: flatbuffers>=24.3.25 in /Library/Frameworks/Python.framework/Versions/3.12/lib/python3.12/site-packages (from tensorflow) (24.3.25)\n",
      "Requirement already satisfied: gast!=0.5.0,!=0.5.1,!=0.5.2,>=0.2.1 in /Library/Frameworks/Python.framework/Versions/3.12/lib/python3.12/site-packages (from tensorflow) (0.6.0)\n",
      "Requirement already satisfied: google-pasta>=0.1.1 in /Library/Frameworks/Python.framework/Versions/3.12/lib/python3.12/site-packages (from tensorflow) (0.2.0)\n",
      "Requirement already satisfied: libclang>=13.0.0 in /Library/Frameworks/Python.framework/Versions/3.12/lib/python3.12/site-packages (from tensorflow) (18.1.1)\n",
      "Requirement already satisfied: opt-einsum>=2.3.2 in /Library/Frameworks/Python.framework/Versions/3.12/lib/python3.12/site-packages (from tensorflow) (3.4.0)\n",
      "Requirement already satisfied: packaging in /Users/rodologie/Library/Python/3.12/lib/python/site-packages (from tensorflow) (23.2)\n",
      "Requirement already satisfied: protobuf!=4.21.0,!=4.21.1,!=4.21.2,!=4.21.3,!=4.21.4,!=4.21.5,<6.0.0dev,>=3.20.3 in /Library/Frameworks/Python.framework/Versions/3.12/lib/python3.12/site-packages (from tensorflow) (5.28.3)\n",
      "Requirement already satisfied: requests<3,>=2.21.0 in /Library/Frameworks/Python.framework/Versions/3.12/lib/python3.12/site-packages (from tensorflow) (2.32.3)\n",
      "Requirement already satisfied: setuptools in /Library/Frameworks/Python.framework/Versions/3.12/lib/python3.12/site-packages (from tensorflow) (70.0.0)\n",
      "Requirement already satisfied: six>=1.12.0 in /Library/Frameworks/Python.framework/Versions/3.12/lib/python3.12/site-packages (from tensorflow) (1.16.0)\n",
      "Requirement already satisfied: termcolor>=1.1.0 in /Library/Frameworks/Python.framework/Versions/3.12/lib/python3.12/site-packages (from tensorflow) (2.5.0)\n",
      "Requirement already satisfied: typing-extensions>=3.6.6 in /Library/Frameworks/Python.framework/Versions/3.12/lib/python3.12/site-packages (from tensorflow) (4.11.0)\n",
      "Requirement already satisfied: wrapt>=1.11.0 in /Library/Frameworks/Python.framework/Versions/3.12/lib/python3.12/site-packages (from tensorflow) (1.16.0)\n",
      "Requirement already satisfied: grpcio<2.0,>=1.24.3 in /Library/Frameworks/Python.framework/Versions/3.12/lib/python3.12/site-packages (from tensorflow) (1.67.1)\n",
      "Requirement already satisfied: tensorboard<2.19,>=2.18 in /Library/Frameworks/Python.framework/Versions/3.12/lib/python3.12/site-packages (from tensorflow) (2.18.0)\n",
      "Requirement already satisfied: keras>=3.5.0 in /Library/Frameworks/Python.framework/Versions/3.12/lib/python3.12/site-packages (from tensorflow) (3.6.0)\n",
      "Requirement already satisfied: numpy<2.1.0,>=1.26.0 in /Library/Frameworks/Python.framework/Versions/3.12/lib/python3.12/site-packages (from tensorflow) (1.26.4)\n",
      "Requirement already satisfied: h5py>=3.11.0 in /Library/Frameworks/Python.framework/Versions/3.12/lib/python3.12/site-packages (from tensorflow) (3.12.1)\n",
      "Requirement already satisfied: ml-dtypes<0.5.0,>=0.4.0 in /Library/Frameworks/Python.framework/Versions/3.12/lib/python3.12/site-packages (from tensorflow) (0.4.1)\n",
      "Requirement already satisfied: wheel<1.0,>=0.23.0 in /Library/Frameworks/Python.framework/Versions/3.12/lib/python3.12/site-packages (from astunparse>=1.6.0->tensorflow) (0.44.0)\n",
      "Requirement already satisfied: rich in /Library/Frameworks/Python.framework/Versions/3.12/lib/python3.12/site-packages (from keras>=3.5.0->tensorflow) (13.9.3)\n",
      "Requirement already satisfied: namex in /Library/Frameworks/Python.framework/Versions/3.12/lib/python3.12/site-packages (from keras>=3.5.0->tensorflow) (0.0.8)\n",
      "Requirement already satisfied: optree in /Library/Frameworks/Python.framework/Versions/3.12/lib/python3.12/site-packages (from keras>=3.5.0->tensorflow) (0.13.0)\n",
      "Requirement already satisfied: charset-normalizer<4,>=2 in /Library/Frameworks/Python.framework/Versions/3.12/lib/python3.12/site-packages (from requests<3,>=2.21.0->tensorflow) (3.4.0)\n",
      "Requirement already satisfied: idna<4,>=2.5 in /Library/Frameworks/Python.framework/Versions/3.12/lib/python3.12/site-packages (from requests<3,>=2.21.0->tensorflow) (3.10)\n",
      "Requirement already satisfied: urllib3<3,>=1.21.1 in /Library/Frameworks/Python.framework/Versions/3.12/lib/python3.12/site-packages (from requests<3,>=2.21.0->tensorflow) (2.2.1)\n",
      "Requirement already satisfied: certifi>=2017.4.17 in /Library/Frameworks/Python.framework/Versions/3.12/lib/python3.12/site-packages (from requests<3,>=2.21.0->tensorflow) (2024.8.30)\n",
      "Requirement already satisfied: markdown>=2.6.8 in /Library/Frameworks/Python.framework/Versions/3.12/lib/python3.12/site-packages (from tensorboard<2.19,>=2.18->tensorflow) (3.7)\n",
      "Requirement already satisfied: tensorboard-data-server<0.8.0,>=0.7.0 in /Library/Frameworks/Python.framework/Versions/3.12/lib/python3.12/site-packages (from tensorboard<2.19,>=2.18->tensorflow) (0.7.2)\n",
      "Requirement already satisfied: werkzeug>=1.0.1 in /Library/Frameworks/Python.framework/Versions/3.12/lib/python3.12/site-packages (from tensorboard<2.19,>=2.18->tensorflow) (3.1.2)\n",
      "Requirement already satisfied: MarkupSafe>=2.1.1 in /Library/Frameworks/Python.framework/Versions/3.12/lib/python3.12/site-packages (from werkzeug>=1.0.1->tensorboard<2.19,>=2.18->tensorflow) (3.0.2)\n",
      "Requirement already satisfied: markdown-it-py>=2.2.0 in /Library/Frameworks/Python.framework/Versions/3.12/lib/python3.12/site-packages (from rich->keras>=3.5.0->tensorflow) (3.0.0)\n",
      "Requirement already satisfied: pygments<3.0.0,>=2.13.0 in /Users/rodologie/Library/Python/3.12/lib/python/site-packages (from rich->keras>=3.5.0->tensorflow) (2.16.1)\n",
      "Requirement already satisfied: mdurl~=0.1 in /Library/Frameworks/Python.framework/Versions/3.12/lib/python3.12/site-packages (from markdown-it-py>=2.2.0->rich->keras>=3.5.0->tensorflow) (0.1.2)\n",
      "\n",
      "\u001b[1m[\u001b[0m\u001b[34;49mnotice\u001b[0m\u001b[1;39;49m]\u001b[0m\u001b[39;49m A new release of pip is available: \u001b[0m\u001b[31;49m24.2\u001b[0m\u001b[39;49m -> \u001b[0m\u001b[32;49m24.3.1\u001b[0m\n",
      "\u001b[1m[\u001b[0m\u001b[34;49mnotice\u001b[0m\u001b[1;39;49m]\u001b[0m\u001b[39;49m To update, run: \u001b[0m\u001b[32;49mpip install --upgrade pip\u001b[0m\n",
      "Note: you may need to restart the kernel to use updated packages.\n"
     ]
    }
   ],
   "source": [
    "%pip install tensorflow"
   ]
  },
  {
   "cell_type": "code",
   "execution_count": 1,
   "metadata": {},
   "outputs": [],
   "source": [
    "import tensorflow as tf\n",
    "import matplotlib.pyplot as plt\n",
    "from tensorflow.keras.datasets.reuters import load_data\n",
    "from tensorflow.keras.preprocessing.sequence import pad_sequences\n",
    "\n",
    "(x_train, y_train), (x_test, y_test) = load_data(num_words=10000)"
   ]
  },
  {
   "cell_type": "code",
   "execution_count": 2,
   "metadata": {},
   "outputs": [
    {
     "name": "stdout",
     "output_type": "stream",
     "text": [
      "Exemple de séquence d'entraînement après tokenisation et padding :\n",
      "[0 0 0 0 0 0 0 0 0 0 0 0 0 0 0 0 0 0 0 0 0 0 0 0 0 0 0 0 0 0 0 0 0 0 0 0 0\n",
      " 0 0 0 0 0 0 0 0 0 0 0 0 0 0 0 0 0 0 0 0 0 0 0 0 0 0 0 0 0 0 0 0 0 0 0 0 0\n",
      " 0 0 0 0 0 0 0 0 0 0 0 0 0 0 0 0 0 0 0 0 0 0 0 0 0 0 0 0 0 0 0 0 0 0 0 0 0\n",
      " 0 0 0 0 0 0 0 0 0 0 0 0 0 0 0 0 0 0 0 0 0 0 0 0 0 0 0 0 0 0 0 0 0 0 0 0 0\n",
      " 0 0 0 0 0 0 0 0 0 0 0 0 0 0 0 0 0 0 0 0 0 0 0 0 0 0 0 0 0 0 0 0 0 0 0 0 0\n",
      " 0 0 0 0 0 0 0 0 0 0 0 0 0 0 0 0 0 0 0 0 0 0 0 0 0 0 0 0 0 0 0 0 0 0 0 0 0\n",
      " 0 0 0 0 0 0 0 0 0 0 0 0 0 0 0 0 0 0 0 0 0 0 0 0 0 0 0 0 0 0 0 0 0 0]\n",
      "Label correspondant :\n",
      "3\n"
     ]
    },
    {
     "data": {
      "image/png": "[encoded data removed]",
      "text/plain": [
       "<Figure size 640x480 with 1 Axes>"
      ]
     },
     "metadata": {},
     "output_type": "display_data"
    }
   ],
   "source": [
    "x_train_lenths = [len(x) for x in x_train]\n",
    "plt.hist(x_train_lenths, bins=len(x_train_lenths))\n",
    "\n",
    "max_words = 10000\n",
    "tokenizer = tf.keras.preprocessing.text.Tokenizer(num_words=max_words)\n",
    "\n",
    "word_index = tf.keras.datasets.reuters.get_word_index()\n",
    "reverse_word_index = dict([(value, key) for (key, value) in word_index.items()])\n",
    "\n",
    "def decode_review(text):\n",
    "    return ' '.join([reverse_word_index.get(i - 3, '?') for i in text])\n",
    "\n",
    "train_sequences = tokenizer.sequences_to_texts(x_train)\n",
    "test_sequences = tokenizer.sequences_to_texts(x_test)\n",
    "\n",
    "train_sequences = tokenizer.texts_to_sequences(train_sequences)\n",
    "test_sequences = tokenizer.texts_to_sequences(test_sequences)\n",
    "\n",
    "maxlen = 256\n",
    "train_padded = pad_sequences(train_sequences, maxlen=maxlen, padding='post')\n",
    "test_padded = pad_sequences(test_sequences, maxlen=maxlen, padding='post')\n",
    "\n",
    "print(\"Exemple de séquence d'entraînement après tokenisation et padding :\")\n",
    "print(train_padded[0])\n",
    "print(\"Label correspondant :\")\n",
    "print(y_train[0])"
   ]
  },
  {
   "cell_type": "markdown",
   "metadata": {},
   "source": [
    "1. **Chargement et prétraitement des données** : \n",
    "   - Chargez le jeu de données **Reuters** à l’aide de `tf.keras.datasets.reuters`.\n",
    "   - Prétraitez les données en veillant à convertir les textes en séquences de tokens numériques compatibles avec le modèle. Utilisez des techniques comme la tokenisation et le padding pour obtenir des séquences de longueur uniforme.\n",
    "   - **Conseils** : Utilisez `Tokenizer` de `tf.keras.preprocessing.text` pour transformer les textes en séquences numériques et `pad_sequences` pour uniformiser la longueur des séquences."
   ]
  },
  {
   "cell_type": "code",
   "execution_count": 3,
   "metadata": {},
   "outputs": [
    {
     "name": "stdout",
     "output_type": "stream",
     "text": [
      "Taille des séquences train : (8982, 442)\n",
      "Taille des séquences test : (2246, 442)\n"
     ]
    }
   ],
   "source": [
    "import numpy as np\n",
    "import tensorflow as tf\n",
    "from tensorflow.keras.preprocessing.text import Tokenizer\n",
    "from tensorflow.keras.preprocessing.sequence import pad_sequences\n",
    "from tensorflow.keras.datasets import reuters\n",
    "\n",
    "# Chargement des données Reuters\n",
    "(num_words, test_split) = 10000, 0.2  # Configurations\n",
    "(train_data, train_labels), (test_data, test_labels) = reuters.load_data(\n",
    "    num_words=num_words, test_split=test_split)\n",
    "\n",
    "# Convertir les indices de mots en texte brut pour pouvoir appliquer Tokenizer\n",
    "word_index = reuters.get_word_index()\n",
    "index_to_word = {value: key for key, value in word_index.items()}\n",
    "train_text = [\" \".join([index_to_word.get(i - 3, \"?\")\n",
    "                       for i in item]) for item in train_data]\n",
    "test_text = [\" \".join([index_to_word.get(i - 3, \"?\")\n",
    "                      for i in item]) for item in test_data]\n",
    "\n",
    "# Initialisation du Tokenizer\n",
    "tokenizer = Tokenizer(num_words=num_words)\n",
    "tokenizer.fit_on_texts(train_text)\n",
    "\n",
    "# Transformation des textes en séquences numériques\n",
    "train_sequences = tokenizer.texts_to_sequences(train_text)\n",
    "test_sequences = tokenizer.texts_to_sequences(test_text)\n",
    "\n",
    "# Application du padding pour uniformiser la longueur des séquences\n",
    "# Optionnel : définir une longueur max\n",
    "\n",
    "# Calcul d'une longueur de séquence optimale (par exemple, 95e percentile)\n",
    "sequence_lengths = [len(seq) for seq in train_sequences]\n",
    "max_length = int(np.percentile(sequence_lengths, 95))  # 95e percentile\n",
    "\n",
    "# Application du padding avec cette longueur maximale\n",
    "train_padded = pad_sequences(\n",
    "    train_sequences, maxlen=max_length, padding='post')\n",
    "test_padded = pad_sequences(test_sequences, maxlen=max_length, padding='post')\n",
    "\n",
    "# Vérification des nouvelles dimensions\n",
    "print(\"Taille des séquences train :\", train_padded.shape)\n",
    "print(\"Taille des séquences test :\", test_padded.shape)"
   ]
  },
  {
   "cell_type": "markdown",
   "metadata": {},
   "source": [
    "2. **Construction d’un modèle de réseau de neurones** : \n",
    "   - Créez un modèle de réseau de neurones profond pour la classification des textes. Expérimentez avec différents types de couches pour trouver une architecture adaptée (par exemple, couches d'embedding pour les mots, couches denses, ou couches LSTM ou GRU pour capturer la structure des séquences).\n",
    "   - **Conseils** : Essayez d’abord une architecture simple (comme une combinaison d’Embedding et Dense), puis explorez l’ajout de couches récurrentes pour une meilleure compréhension du contexte des mots."
   ]
  },
  {
   "cell_type": "code",
   "execution_count": 4,
   "metadata": {},
   "outputs": [
    {
     "name": "stderr",
     "output_type": "stream",
     "text": [
      "/Library/Frameworks/Python.framework/Versions/3.12/lib/python3.12/site-packages/keras/src/layers/core/embedding.py:90: UserWarning: Argument `input_length` is deprecated. Just remove it.\n",
      "  warnings.warn(\n"
     ]
    },
    {
     "data": {
      "text/html": [
       "<pre style=\"white-space:pre;overflow-x:auto;line-height:normal;font-family:Menlo,'DejaVu Sans Mono',consolas,'Courier New',monospace\"><span style=\"font-weight: bold\">Model: \"sequential\"</span>\n",
       "</pre>\n"
      ],
      "text/plain": [
       "\u001b[1mModel: \"sequential\"\u001b[0m\n"
      ]
     },
     "metadata": {},
     "output_type": "display_data"
    },
    {
     "data": {
      "text/html": [
       "<pre style=\"white-space:pre;overflow-x:auto;line-height:normal;font-family:Menlo,'DejaVu Sans Mono',consolas,'Courier New',monospace\">┏━━━━━━━━━━━━━━━━━━━━━━━━━━━━━━━━━┳━━━━━━━━━━━━━━━━━━━━━━━━┳━━━━━━━━━━━━━━━┓\n",
       "┃<span style=\"font-weight: bold\"> Layer (type)                    </span>┃<span style=\"font-weight: bold\"> Output Shape           </span>┃<span style=\"font-weight: bold\">       Param # </span>┃\n",
       "┡━━━━━━━━━━━━━━━━━━━━━━━━━━━━━━━━━╇━━━━━━━━━━━━━━━━━━━━━━━━╇━━━━━━━━━━━━━━━┩\n",
       "│ embedding (<span style=\"color: #0087ff; text-decoration-color: #0087ff\">Embedding</span>)           │ (<span style=\"color: #00d7ff; text-decoration-color: #00d7ff\">None</span>, <span style=\"color: #00af00; text-decoration-color: #00af00\">442</span>, <span style=\"color: #00af00; text-decoration-color: #00af00\">64</span>)        │       <span style=\"color: #00af00; text-decoration-color: #00af00\">640,000</span> │\n",
       "├─────────────────────────────────┼────────────────────────┼───────────────┤\n",
       "│ global_average_pooling1d        │ (<span style=\"color: #00d7ff; text-decoration-color: #00d7ff\">None</span>, <span style=\"color: #00af00; text-decoration-color: #00af00\">64</span>)             │             <span style=\"color: #00af00; text-decoration-color: #00af00\">0</span> │\n",
       "│ (<span style=\"color: #0087ff; text-decoration-color: #0087ff\">GlobalAveragePooling1D</span>)        │                        │               │\n",
       "├─────────────────────────────────┼────────────────────────┼───────────────┤\n",
       "│ dense (<span style=\"color: #0087ff; text-decoration-color: #0087ff\">Dense</span>)                   │ (<span style=\"color: #00d7ff; text-decoration-color: #00d7ff\">None</span>, <span style=\"color: #00af00; text-decoration-color: #00af00\">128</span>)            │         <span style=\"color: #00af00; text-decoration-color: #00af00\">8,320</span> │\n",
       "├─────────────────────────────────┼────────────────────────┼───────────────┤\n",
       "│ dense_1 (<span style=\"color: #0087ff; text-decoration-color: #0087ff\">Dense</span>)                 │ (<span style=\"color: #00d7ff; text-decoration-color: #00d7ff\">None</span>, <span style=\"color: #00af00; text-decoration-color: #00af00\">46</span>)             │         <span style=\"color: #00af00; text-decoration-color: #00af00\">5,934</span> │\n",
       "└─────────────────────────────────┴────────────────────────┴───────────────┘\n",
       "</pre>\n"
      ],
      "text/plain": [
       "┏━━━━━━━━━━━━━━━━━━━━━━━━━━━━━━━━━┳━━━━━━━━━━━━━━━━━━━━━━━━┳━━━━━━━━━━━━━━━┓\n",
       "┃\u001b[1m \u001b[0m\u001b[1mLayer (type)                   \u001b[0m\u001b[1m \u001b[0m┃\u001b[1m \u001b[0m\u001b[1mOutput Shape          \u001b[0m\u001b[1m \u001b[0m┃\u001b[1m \u001b[0m\u001b[1m      Param #\u001b[0m\u001b[1m \u001b[0m┃\n",
       "┡━━━━━━━━━━━━━━━━━━━━━━━━━━━━━━━━━╇━━━━━━━━━━━━━━━━━━━━━━━━╇━━━━━━━━━━━━━━━┩\n",
       "│ embedding (\u001b[38;5;33mEmbedding\u001b[0m)           │ (\u001b[38;5;45mNone\u001b[0m, \u001b[38;5;34m442\u001b[0m, \u001b[38;5;34m64\u001b[0m)        │       \u001b[38;5;34m640,000\u001b[0m │\n",
       "├─────────────────────────────────┼────────────────────────┼───────────────┤\n",
       "│ global_average_pooling1d        │ (\u001b[38;5;45mNone\u001b[0m, \u001b[38;5;34m64\u001b[0m)             │             \u001b[38;5;34m0\u001b[0m │\n",
       "│ (\u001b[38;5;33mGlobalAveragePooling1D\u001b[0m)        │                        │               │\n",
       "├─────────────────────────────────┼────────────────────────┼───────────────┤\n",
       "│ dense (\u001b[38;5;33mDense\u001b[0m)                   │ (\u001b[38;5;45mNone\u001b[0m, \u001b[38;5;34m128\u001b[0m)            │         \u001b[38;5;34m8,320\u001b[0m │\n",
       "├─────────────────────────────────┼────────────────────────┼───────────────┤\n",
       "│ dense_1 (\u001b[38;5;33mDense\u001b[0m)                 │ (\u001b[38;5;45mNone\u001b[0m, \u001b[38;5;34m46\u001b[0m)             │         \u001b[38;5;34m5,934\u001b[0m │\n",
       "└─────────────────────────────────┴────────────────────────┴───────────────┘\n"
      ]
     },
     "metadata": {},
     "output_type": "display_data"
    },
    {
     "data": {
      "text/html": [
       "<pre style=\"white-space:pre;overflow-x:auto;line-height:normal;font-family:Menlo,'DejaVu Sans Mono',consolas,'Courier New',monospace\"><span style=\"font-weight: bold\"> Total params: </span><span style=\"color: #00af00; text-decoration-color: #00af00\">654,254</span> (2.50 MB)\n",
       "</pre>\n"
      ],
      "text/plain": [
       "\u001b[1m Total params: \u001b[0m\u001b[38;5;34m654,254\u001b[0m (2.50 MB)\n"
      ]
     },
     "metadata": {},
     "output_type": "display_data"
    },
    {
     "data": {
      "text/html": [
       "<pre style=\"white-space:pre;overflow-x:auto;line-height:normal;font-family:Menlo,'DejaVu Sans Mono',consolas,'Courier New',monospace\"><span style=\"font-weight: bold\"> Trainable params: </span><span style=\"color: #00af00; text-decoration-color: #00af00\">654,254</span> (2.50 MB)\n",
       "</pre>\n"
      ],
      "text/plain": [
       "\u001b[1m Trainable params: \u001b[0m\u001b[38;5;34m654,254\u001b[0m (2.50 MB)\n"
      ]
     },
     "metadata": {},
     "output_type": "display_data"
    },
    {
     "data": {
      "text/html": [
       "<pre style=\"white-space:pre;overflow-x:auto;line-height:normal;font-family:Menlo,'DejaVu Sans Mono',consolas,'Courier New',monospace\"><span style=\"font-weight: bold\"> Non-trainable params: </span><span style=\"color: #00af00; text-decoration-color: #00af00\">0</span> (0.00 B)\n",
       "</pre>\n"
      ],
      "text/plain": [
       "\u001b[1m Non-trainable params: \u001b[0m\u001b[38;5;34m0\u001b[0m (0.00 B)\n"
      ]
     },
     "metadata": {},
     "output_type": "display_data"
    }
   ],
   "source": [
    "import tensorflow as tf\n",
    "from tensorflow.keras.models import Sequential\n",
    "from tensorflow.keras.layers import Embedding, Dense, GlobalAveragePooling1D\n",
    "\n",
    "# Paramètres du modèle\n",
    "vocab_size = 10000  # Correspond à num_words dans Tokenizer\n",
    "embedding_dim = 64  # Taille de la représentation des mots en vecteurs denses\n",
    "num_classes = max(train_labels) + 1  # Nombre de classes de sortie\n",
    "\n",
    "# Modèle de base\n",
    "# Modèle de base\n",
    "model_1 = Sequential([\n",
    "    Embedding(input_dim=vocab_size, output_dim=embedding_dim,\n",
    "              input_length=max_length),\n",
    "    GlobalAveragePooling1D(),\n",
    "    Dense(128, activation='relu'),\n",
    "    Dense(num_classes, activation='softmax')\n",
    "])\n",
    "\n",
    "# Construction explicite du modèle (si nécessaire)\n",
    "model_1.build(input_shape=(None, max_length))\n",
    "\n",
    "# Compilation du modèle\n",
    "model_1.compile(optimizer='adam',\n",
    "              loss='sparse_categorical_crossentropy', metrics=['accuracy'])\n",
    "\n",
    "# Résumé du modèle\n",
    "model_1.summary()"
   ]
  },
  {
   "cell_type": "code",
   "execution_count": 5,
   "metadata": {},
   "outputs": [
    {
     "data": {
      "text/html": [
       "<pre style=\"white-space:pre;overflow-x:auto;line-height:normal;font-family:Menlo,'DejaVu Sans Mono',consolas,'Courier New',monospace\"><span style=\"font-weight: bold\">Model: \"sequential_1\"</span>\n",
       "</pre>\n"
      ],
      "text/plain": [
       "\u001b[1mModel: \"sequential_1\"\u001b[0m\n"
      ]
     },
     "metadata": {},
     "output_type": "display_data"
    },
    {
     "data": {
      "text/html": [
       "<pre style=\"white-space:pre;overflow-x:auto;line-height:normal;font-family:Menlo,'DejaVu Sans Mono',consolas,'Courier New',monospace\">┏━━━━━━━━━━━━━━━━━━━━━━━━━━━━━━━━━┳━━━━━━━━━━━━━━━━━━━━━━━━┳━━━━━━━━━━━━━━━┓\n",
       "┃<span style=\"font-weight: bold\"> Layer (type)                    </span>┃<span style=\"font-weight: bold\"> Output Shape           </span>┃<span style=\"font-weight: bold\">       Param # </span>┃\n",
       "┡━━━━━━━━━━━━━━━━━━━━━━━━━━━━━━━━━╇━━━━━━━━━━━━━━━━━━━━━━━━╇━━━━━━━━━━━━━━━┩\n",
       "│ embedding_1 (<span style=\"color: #0087ff; text-decoration-color: #0087ff\">Embedding</span>)         │ (<span style=\"color: #00d7ff; text-decoration-color: #00d7ff\">None</span>, <span style=\"color: #00af00; text-decoration-color: #00af00\">442</span>, <span style=\"color: #00af00; text-decoration-color: #00af00\">64</span>)        │       <span style=\"color: #00af00; text-decoration-color: #00af00\">640,000</span> │\n",
       "├─────────────────────────────────┼────────────────────────┼───────────────┤\n",
       "│ lstm (<span style=\"color: #0087ff; text-decoration-color: #0087ff\">LSTM</span>)                     │ (<span style=\"color: #00d7ff; text-decoration-color: #00d7ff\">None</span>, <span style=\"color: #00af00; text-decoration-color: #00af00\">128</span>)            │        <span style=\"color: #00af00; text-decoration-color: #00af00\">98,816</span> │\n",
       "├─────────────────────────────────┼────────────────────────┼───────────────┤\n",
       "│ dense_2 (<span style=\"color: #0087ff; text-decoration-color: #0087ff\">Dense</span>)                 │ (<span style=\"color: #00d7ff; text-decoration-color: #00d7ff\">None</span>, <span style=\"color: #00af00; text-decoration-color: #00af00\">128</span>)            │        <span style=\"color: #00af00; text-decoration-color: #00af00\">16,512</span> │\n",
       "├─────────────────────────────────┼────────────────────────┼───────────────┤\n",
       "│ dense_3 (<span style=\"color: #0087ff; text-decoration-color: #0087ff\">Dense</span>)                 │ (<span style=\"color: #00d7ff; text-decoration-color: #00d7ff\">None</span>, <span style=\"color: #00af00; text-decoration-color: #00af00\">46</span>)             │         <span style=\"color: #00af00; text-decoration-color: #00af00\">5,934</span> │\n",
       "└─────────────────────────────────┴────────────────────────┴───────────────┘\n",
       "</pre>\n"
      ],
      "text/plain": [
       "┏━━━━━━━━━━━━━━━━━━━━━━━━━━━━━━━━━┳━━━━━━━━━━━━━━━━━━━━━━━━┳━━━━━━━━━━━━━━━┓\n",
       "┃\u001b[1m \u001b[0m\u001b[1mLayer (type)                   \u001b[0m\u001b[1m \u001b[0m┃\u001b[1m \u001b[0m\u001b[1mOutput Shape          \u001b[0m\u001b[1m \u001b[0m┃\u001b[1m \u001b[0m\u001b[1m      Param #\u001b[0m\u001b[1m \u001b[0m┃\n",
       "┡━━━━━━━━━━━━━━━━━━━━━━━━━━━━━━━━━╇━━━━━━━━━━━━━━━━━━━━━━━━╇━━━━━━━━━━━━━━━┩\n",
       "│ embedding_1 (\u001b[38;5;33mEmbedding\u001b[0m)         │ (\u001b[38;5;45mNone\u001b[0m, \u001b[38;5;34m442\u001b[0m, \u001b[38;5;34m64\u001b[0m)        │       \u001b[38;5;34m640,000\u001b[0m │\n",
       "├─────────────────────────────────┼────────────────────────┼───────────────┤\n",
       "│ lstm (\u001b[38;5;33mLSTM\u001b[0m)                     │ (\u001b[38;5;45mNone\u001b[0m, \u001b[38;5;34m128\u001b[0m)            │        \u001b[38;5;34m98,816\u001b[0m │\n",
       "├─────────────────────────────────┼────────────────────────┼───────────────┤\n",
       "│ dense_2 (\u001b[38;5;33mDense\u001b[0m)                 │ (\u001b[38;5;45mNone\u001b[0m, \u001b[38;5;34m128\u001b[0m)            │        \u001b[38;5;34m16,512\u001b[0m │\n",
       "├─────────────────────────────────┼────────────────────────┼───────────────┤\n",
       "│ dense_3 (\u001b[38;5;33mDense\u001b[0m)                 │ (\u001b[38;5;45mNone\u001b[0m, \u001b[38;5;34m46\u001b[0m)             │         \u001b[38;5;34m5,934\u001b[0m │\n",
       "└─────────────────────────────────┴────────────────────────┴───────────────┘\n"
      ]
     },
     "metadata": {},
     "output_type": "display_data"
    },
    {
     "data": {
      "text/html": [
       "<pre style=\"white-space:pre;overflow-x:auto;line-height:normal;font-family:Menlo,'DejaVu Sans Mono',consolas,'Courier New',monospace\"><span style=\"font-weight: bold\"> Total params: </span><span style=\"color: #00af00; text-decoration-color: #00af00\">761,262</span> (2.90 MB)\n",
       "</pre>\n"
      ],
      "text/plain": [
       "\u001b[1m Total params: \u001b[0m\u001b[38;5;34m761,262\u001b[0m (2.90 MB)\n"
      ]
     },
     "metadata": {},
     "output_type": "display_data"
    },
    {
     "data": {
      "text/html": [
       "<pre style=\"white-space:pre;overflow-x:auto;line-height:normal;font-family:Menlo,'DejaVu Sans Mono',consolas,'Courier New',monospace\"><span style=\"font-weight: bold\"> Trainable params: </span><span style=\"color: #00af00; text-decoration-color: #00af00\">761,262</span> (2.90 MB)\n",
       "</pre>\n"
      ],
      "text/plain": [
       "\u001b[1m Trainable params: \u001b[0m\u001b[38;5;34m761,262\u001b[0m (2.90 MB)\n"
      ]
     },
     "metadata": {},
     "output_type": "display_data"
    },
    {
     "data": {
      "text/html": [
       "<pre style=\"white-space:pre;overflow-x:auto;line-height:normal;font-family:Menlo,'DejaVu Sans Mono',consolas,'Courier New',monospace\"><span style=\"font-weight: bold\"> Non-trainable params: </span><span style=\"color: #00af00; text-decoration-color: #00af00\">0</span> (0.00 B)\n",
       "</pre>\n"
      ],
      "text/plain": [
       "\u001b[1m Non-trainable params: \u001b[0m\u001b[38;5;34m0\u001b[0m (0.00 B)\n"
      ]
     },
     "metadata": {},
     "output_type": "display_data"
    }
   ],
   "source": [
    "from tensorflow.keras.models import Sequential\n",
    "from tensorflow.keras.layers import Embedding, LSTM, Dense, GRU\n",
    "\n",
    "# Paramètres du modèle\n",
    "vocab_size = 10000  # Nombre de mots uniques dans le vocabulaire\n",
    "embedding_dim = 64  # Dimension des vecteurs d'Embedding\n",
    "max_length = 442  # Longueur des séquences après padding\n",
    "num_classes = 46  # Nombre de classes pour la classification\n",
    "\n",
    "# Construction du modèle\n",
    "model_2 = Sequential([\n",
    "    # Couche d'Embedding : initialisation correcte avec tous les paramètres\n",
    "    Embedding(input_dim=vocab_size, output_dim=embedding_dim,\n",
    "              input_length=max_length),\n",
    "\n",
    "    # Couche LSTM : ajustement des unités et définition du return_sequences\n",
    "    LSTM(128, return_sequences=False),  # Utilisation de 128 unités dans l'LSTM\n",
    "\n",
    "    # Première couche Dense : activation ReLU\n",
    "    Dense(128, activation='relu'),\n",
    "\n",
    "    # Couche de sortie Dense : avec softmax pour la classification multi-classes\n",
    "    Dense(num_classes, activation='softmax')\n",
    "])\n",
    "\n",
    "# Construction explicite du modèle (si nécessaire)\n",
    "model_2.build(input_shape=(None, max_length))\n",
    "\n",
    "# Compiler le modèle avec l'optimiseur et la fonction de perte\n",
    "model_2.compile(optimizer=tf.keras.optimizers.Adam(learning_rate=0.001),\n",
    "              loss='sparse_categorical_crossentropy', metrics=['accuracy'])\n",
    "\n",
    "# Afficher un résumé du modèle pour voir si tout est bien initialisé\n",
    "model_2.summary()"
   ]
  },
  {
   "cell_type": "code",
   "execution_count": 6,
   "metadata": {},
   "outputs": [
    {
     "data": {
      "text/html": [
       "<pre style=\"white-space:pre;overflow-x:auto;line-height:normal;font-family:Menlo,'DejaVu Sans Mono',consolas,'Courier New',monospace\"><span style=\"font-weight: bold\">Model: \"sequential_2\"</span>\n",
       "</pre>\n"
      ],
      "text/plain": [
       "\u001b[1mModel: \"sequential_2\"\u001b[0m\n"
      ]
     },
     "metadata": {},
     "output_type": "display_data"
    },
    {
     "data": {
      "text/html": [
       "<pre style=\"white-space:pre;overflow-x:auto;line-height:normal;font-family:Menlo,'DejaVu Sans Mono',consolas,'Courier New',monospace\">┏━━━━━━━━━━━━━━━━━━━━━━━━━━━━━━━━━┳━━━━━━━━━━━━━━━━━━━━━━━━┳━━━━━━━━━━━━━━━┓\n",
       "┃<span style=\"font-weight: bold\"> Layer (type)                    </span>┃<span style=\"font-weight: bold\"> Output Shape           </span>┃<span style=\"font-weight: bold\">       Param # </span>┃\n",
       "┡━━━━━━━━━━━━━━━━━━━━━━━━━━━━━━━━━╇━━━━━━━━━━━━━━━━━━━━━━━━╇━━━━━━━━━━━━━━━┩\n",
       "│ embedding_2 (<span style=\"color: #0087ff; text-decoration-color: #0087ff\">Embedding</span>)         │ (<span style=\"color: #00d7ff; text-decoration-color: #00d7ff\">None</span>, <span style=\"color: #00af00; text-decoration-color: #00af00\">442</span>, <span style=\"color: #00af00; text-decoration-color: #00af00\">64</span>)        │       <span style=\"color: #00af00; text-decoration-color: #00af00\">640,000</span> │\n",
       "├─────────────────────────────────┼────────────────────────┼───────────────┤\n",
       "│ flatten (<span style=\"color: #0087ff; text-decoration-color: #0087ff\">Flatten</span>)               │ (<span style=\"color: #00d7ff; text-decoration-color: #00d7ff\">None</span>, <span style=\"color: #00af00; text-decoration-color: #00af00\">28288</span>)          │             <span style=\"color: #00af00; text-decoration-color: #00af00\">0</span> │\n",
       "├─────────────────────────────────┼────────────────────────┼───────────────┤\n",
       "│ dense_4 (<span style=\"color: #0087ff; text-decoration-color: #0087ff\">Dense</span>)                 │ (<span style=\"color: #00d7ff; text-decoration-color: #00d7ff\">None</span>, <span style=\"color: #00af00; text-decoration-color: #00af00\">128</span>)            │     <span style=\"color: #00af00; text-decoration-color: #00af00\">3,620,992</span> │\n",
       "├─────────────────────────────────┼────────────────────────┼───────────────┤\n",
       "│ dense_5 (<span style=\"color: #0087ff; text-decoration-color: #0087ff\">Dense</span>)                 │ (<span style=\"color: #00d7ff; text-decoration-color: #00d7ff\">None</span>, <span style=\"color: #00af00; text-decoration-color: #00af00\">46</span>)             │         <span style=\"color: #00af00; text-decoration-color: #00af00\">5,934</span> │\n",
       "└─────────────────────────────────┴────────────────────────┴───────────────┘\n",
       "</pre>\n"
      ],
      "text/plain": [
       "┏━━━━━━━━━━━━━━━━━━━━━━━━━━━━━━━━━┳━━━━━━━━━━━━━━━━━━━━━━━━┳━━━━━━━━━━━━━━━┓\n",
       "┃\u001b[1m \u001b[0m\u001b[1mLayer (type)                   \u001b[0m\u001b[1m \u001b[0m┃\u001b[1m \u001b[0m\u001b[1mOutput Shape          \u001b[0m\u001b[1m \u001b[0m┃\u001b[1m \u001b[0m\u001b[1m      Param #\u001b[0m\u001b[1m \u001b[0m┃\n",
       "┡━━━━━━━━━━━━━━━━━━━━━━━━━━━━━━━━━╇━━━━━━━━━━━━━━━━━━━━━━━━╇━━━━━━━━━━━━━━━┩\n",
       "│ embedding_2 (\u001b[38;5;33mEmbedding\u001b[0m)         │ (\u001b[38;5;45mNone\u001b[0m, \u001b[38;5;34m442\u001b[0m, \u001b[38;5;34m64\u001b[0m)        │       \u001b[38;5;34m640,000\u001b[0m │\n",
       "├─────────────────────────────────┼────────────────────────┼───────────────┤\n",
       "│ flatten (\u001b[38;5;33mFlatten\u001b[0m)               │ (\u001b[38;5;45mNone\u001b[0m, \u001b[38;5;34m28288\u001b[0m)          │             \u001b[38;5;34m0\u001b[0m │\n",
       "├─────────────────────────────────┼────────────────────────┼───────────────┤\n",
       "│ dense_4 (\u001b[38;5;33mDense\u001b[0m)                 │ (\u001b[38;5;45mNone\u001b[0m, \u001b[38;5;34m128\u001b[0m)            │     \u001b[38;5;34m3,620,992\u001b[0m │\n",
       "├─────────────────────────────────┼────────────────────────┼───────────────┤\n",
       "│ dense_5 (\u001b[38;5;33mDense\u001b[0m)                 │ (\u001b[38;5;45mNone\u001b[0m, \u001b[38;5;34m46\u001b[0m)             │         \u001b[38;5;34m5,934\u001b[0m │\n",
       "└─────────────────────────────────┴────────────────────────┴───────────────┘\n"
      ]
     },
     "metadata": {},
     "output_type": "display_data"
    },
    {
     "data": {
      "text/html": [
       "<pre style=\"white-space:pre;overflow-x:auto;line-height:normal;font-family:Menlo,'DejaVu Sans Mono',consolas,'Courier New',monospace\"><span style=\"font-weight: bold\"> Total params: </span><span style=\"color: #00af00; text-decoration-color: #00af00\">4,266,926</span> (16.28 MB)\n",
       "</pre>\n"
      ],
      "text/plain": [
       "\u001b[1m Total params: \u001b[0m\u001b[38;5;34m4,266,926\u001b[0m (16.28 MB)\n"
      ]
     },
     "metadata": {},
     "output_type": "display_data"
    },
    {
     "data": {
      "text/html": [
       "<pre style=\"white-space:pre;overflow-x:auto;line-height:normal;font-family:Menlo,'DejaVu Sans Mono',consolas,'Courier New',monospace\"><span style=\"font-weight: bold\"> Trainable params: </span><span style=\"color: #00af00; text-decoration-color: #00af00\">4,266,926</span> (16.28 MB)\n",
       "</pre>\n"
      ],
      "text/plain": [
       "\u001b[1m Trainable params: \u001b[0m\u001b[38;5;34m4,266,926\u001b[0m (16.28 MB)\n"
      ]
     },
     "metadata": {},
     "output_type": "display_data"
    },
    {
     "data": {
      "text/html": [
       "<pre style=\"white-space:pre;overflow-x:auto;line-height:normal;font-family:Menlo,'DejaVu Sans Mono',consolas,'Courier New',monospace\"><span style=\"font-weight: bold\"> Non-trainable params: </span><span style=\"color: #00af00; text-decoration-color: #00af00\">0</span> (0.00 B)\n",
       "</pre>\n"
      ],
      "text/plain": [
       "\u001b[1m Non-trainable params: \u001b[0m\u001b[38;5;34m0\u001b[0m (0.00 B)\n"
      ]
     },
     "metadata": {},
     "output_type": "display_data"
    }
   ],
   "source": [
    "from tensorflow.keras.models import Sequential\n",
    "from tensorflow.keras.layers import Embedding, LSTM, Dense, Flatten\n",
    "\n",
    "# Paramètres du modèle\n",
    "vocab_size = 10000  # Nombre de mots uniques dans le vocabulaire\n",
    "embedding_dim = 64  # Dimension des vecteurs d'Embedding\n",
    "max_length = 442  # Longueur des séquences après padding\n",
    "num_classes = 46  # Nombre de classes pour la classification\n",
    "\n",
    "# Construction du modèle\n",
    "model_3 = Sequential([\n",
    "    # Couche d'Embedding : initialisation correcte avec tous les paramètres\n",
    "    Embedding(input_dim=vocab_size, output_dim=embedding_dim,\n",
    "              input_length=max_length),\n",
    "\n",
    "    # Couche LSTM : ajustement des unités et définition du return_sequences\n",
    "    Flatten(),  # Utilisation de 128 unités dans l'LSTM\n",
    "\n",
    "    # Première couche Dense : activation ReLU\n",
    "    Dense(128, activation='relu'),\n",
    "\n",
    "    # Couche de sortie Dense : avec softmax pour la classification multi-classes\n",
    "    Dense(num_classes, activation='softmax')\n",
    "])\n",
    "\n",
    "# Construction explicite du modèle (si nécessaire)\n",
    "model_3.build(input_shape=(None, max_length))\n",
    "\n",
    "# Compiler le modèle avec l'optimiseur et la fonction de perte\n",
    "model_3.compile(optimizer=tf.keras.optimizers.Adam(learning_rate=0.001),\n",
    "                  loss='sparse_categorical_crossentropy', metrics=['accuracy'])\n",
    "\n",
    "# Afficher un résumé du modèle pour voir si tout est bien initialisé\n",
    "model_3.summary()"
   ]
  },
  {
   "cell_type": "code",
   "execution_count": 7,
   "metadata": {},
   "outputs": [
    {
     "name": "stdout",
     "output_type": "stream",
     "text": [
      "Epoch 1/10\n",
      "\u001b[1m281/281\u001b[0m \u001b[32m━━━━━━━━━━━━━━━━━━━━\u001b[0m\u001b[37m\u001b[0m \u001b[1m1s\u001b[0m 3ms/step - accuracy: 0.3589 - loss: 2.5956 - val_accuracy: 0.3829 - val_loss: 2.2652\n",
      "Epoch 2/10\n",
      "\u001b[1m281/281\u001b[0m \u001b[32m━━━━━━━━━━━━━━━━━━━━\u001b[0m\u001b[37m\u001b[0m \u001b[1m1s\u001b[0m 3ms/step - accuracy: 0.4692 - loss: 2.0691 - val_accuracy: 0.5583 - val_loss: 1.8569\n",
      "Epoch 3/10\n",
      "\u001b[1m281/281\u001b[0m \u001b[32m━━━━━━━━━━━━━━━━━━━━\u001b[0m\u001b[37m\u001b[0m \u001b[1m1s\u001b[0m 4ms/step - accuracy: 0.5666 - loss: 1.7696 - val_accuracy: 0.6331 - val_loss: 1.6318\n",
      "Epoch 4/10\n",
      "\u001b[1m281/281\u001b[0m \u001b[32m━━━━━━━━━━━━━━━━━━━━\u001b[0m\u001b[37m\u001b[0m \u001b[1m1s\u001b[0m 4ms/step - accuracy: 0.6277 - loss: 1.5530 - val_accuracy: 0.6541 - val_loss: 1.4720\n",
      "Epoch 5/10\n",
      "\u001b[1m281/281\u001b[0m \u001b[32m━━━━━━━━━━━━━━━━━━━━\u001b[0m\u001b[37m\u001b[0m \u001b[1m1s\u001b[0m 4ms/step - accuracy: 0.6819 - loss: 1.3254 - val_accuracy: 0.6892 - val_loss: 1.3429\n",
      "Epoch 6/10\n",
      "\u001b[1m281/281\u001b[0m \u001b[32m━━━━━━━━━━━━━━━━━━━━\u001b[0m\u001b[37m\u001b[0m \u001b[1m1s\u001b[0m 4ms/step - accuracy: 0.7179 - loss: 1.1904 - val_accuracy: 0.6995 - val_loss: 1.3021\n",
      "Epoch 7/10\n",
      "\u001b[1m281/281\u001b[0m \u001b[32m━━━━━━━━━━━━━━━━━━━━\u001b[0m\u001b[37m\u001b[0m \u001b[1m1s\u001b[0m 4ms/step - accuracy: 0.7324 - loss: 1.1043 - val_accuracy: 0.7208 - val_loss: 1.2025\n",
      "Epoch 8/10\n",
      "\u001b[1m281/281\u001b[0m \u001b[32m━━━━━━━━━━━━━━━━━━━━\u001b[0m\u001b[37m\u001b[0m \u001b[1m1s\u001b[0m 5ms/step - accuracy: 0.7602 - loss: 1.0001 - val_accuracy: 0.7088 - val_loss: 1.1682\n",
      "Epoch 9/10\n",
      "\u001b[1m281/281\u001b[0m \u001b[32m━━━━━━━━━━━━━━━━━━━━\u001b[0m\u001b[37m\u001b[0m \u001b[1m1s\u001b[0m 5ms/step - accuracy: 0.7822 - loss: 0.9078 - val_accuracy: 0.7444 - val_loss: 1.1065\n",
      "Epoch 10/10\n",
      "\u001b[1m281/281\u001b[0m \u001b[32m━━━━━━━━━━━━━━━━━━━━\u001b[0m\u001b[37m\u001b[0m \u001b[1m2s\u001b[0m 5ms/step - accuracy: 0.7933 - loss: 0.8578 - val_accuracy: 0.7418 - val_loss: 1.0715\n",
      "Epoch 1/10\n",
      "\u001b[1m281/281\u001b[0m \u001b[32m━━━━━━━━━━━━━━━━━━━━\u001b[0m\u001b[37m\u001b[0m \u001b[1m93s\u001b[0m 329ms/step - accuracy: 0.3432 - loss: 2.6140 - val_accuracy: 0.2110 - val_loss: 2.4428\n",
      "Epoch 2/10\n",
      "\u001b[1m281/281\u001b[0m \u001b[32m━━━━━━━━━━━━━━━━━━━━\u001b[0m\u001b[37m\u001b[0m \u001b[1m89s\u001b[0m 315ms/step - accuracy: 0.3489 - loss: 2.3876 - val_accuracy: 0.3682 - val_loss: 2.4035\n",
      "Epoch 3/10\n",
      "\u001b[1m281/281\u001b[0m \u001b[32m━━━━━━━━━━━━━━━━━━━━\u001b[0m\u001b[37m\u001b[0m \u001b[1m80s\u001b[0m 283ms/step - accuracy: 0.3510 - loss: 2.4140 - val_accuracy: 0.3664 - val_loss: 2.4049\n",
      "Epoch 4/10\n",
      "\u001b[1m281/281\u001b[0m \u001b[32m━━━━━━━━━━━━━━━━━━━━\u001b[0m\u001b[37m\u001b[0m \u001b[1m78s\u001b[0m 277ms/step - accuracy: 0.3554 - loss: 2.3991 - val_accuracy: 0.3646 - val_loss: 2.4008\n",
      "Epoch 5/10\n",
      "\u001b[1m281/281\u001b[0m \u001b[32m━━━━━━━━━━━━━━━━━━━━\u001b[0m\u001b[37m\u001b[0m \u001b[1m78s\u001b[0m 278ms/step - accuracy: 0.3538 - loss: 2.4189 - val_accuracy: 0.3687 - val_loss: 2.4082\n",
      "Epoch 6/10\n",
      "\u001b[1m281/281\u001b[0m \u001b[32m━━━━━━━━━━━━━━━━━━━━\u001b[0m\u001b[37m\u001b[0m \u001b[1m80s\u001b[0m 287ms/step - accuracy: 0.3541 - loss: 2.4079 - val_accuracy: 0.3638 - val_loss: 2.3962\n",
      "Epoch 7/10\n",
      "\u001b[1m281/281\u001b[0m \u001b[32m━━━━━━━━━━━━━━━━━━━━\u001b[0m\u001b[37m\u001b[0m \u001b[1m80s\u001b[0m 285ms/step - accuracy: 0.3629 - loss: 2.3642 - val_accuracy: 0.3664 - val_loss: 2.4126\n",
      "Epoch 8/10\n",
      "\u001b[1m281/281\u001b[0m \u001b[32m━━━━━━━━━━━━━━━━━━━━\u001b[0m\u001b[37m\u001b[0m \u001b[1m86s\u001b[0m 306ms/step - accuracy: 0.3541 - loss: 2.4146 - val_accuracy: 0.3678 - val_loss: 2.4114\n",
      "Epoch 9/10\n",
      "\u001b[1m281/281\u001b[0m \u001b[32m━━━━━━━━━━━━━━━━━━━━\u001b[0m\u001b[37m\u001b[0m \u001b[1m78s\u001b[0m 278ms/step - accuracy: 0.3561 - loss: 2.3804 - val_accuracy: 0.3664 - val_loss: 2.4128\n",
      "Epoch 10/10\n",
      "\u001b[1m281/281\u001b[0m \u001b[32m━━━━━━━━━━━━━━━━━━━━\u001b[0m\u001b[37m\u001b[0m \u001b[1m78s\u001b[0m 277ms/step - accuracy: 0.3613 - loss: 2.3739 - val_accuracy: 0.3673 - val_loss: 2.4084\n",
      "Epoch 1/10\n",
      "\u001b[1m281/281\u001b[0m \u001b[32m━━━━━━━━━━━━━━━━━━━━\u001b[0m\u001b[37m\u001b[0m \u001b[1m3s\u001b[0m 9ms/step - accuracy: 0.4784 - loss: 2.0796 - val_accuracy: 0.6906 - val_loss: 1.3011\n",
      "Epoch 2/10\n",
      "\u001b[1m281/281\u001b[0m \u001b[32m━━━━━━━━━━━━━━━━━━━━\u001b[0m\u001b[37m\u001b[0m \u001b[1m3s\u001b[0m 9ms/step - accuracy: 0.7925 - loss: 0.8818 - val_accuracy: 0.7373 - val_loss: 1.1657\n",
      "Epoch 3/10\n",
      "\u001b[1m281/281\u001b[0m \u001b[32m━━━━━━━━━━━━━━━━━━━━\u001b[0m\u001b[37m\u001b[0m \u001b[1m3s\u001b[0m 9ms/step - accuracy: 0.9274 - loss: 0.3627 - val_accuracy: 0.7453 - val_loss: 1.1745\n",
      "Epoch 4/10\n",
      "\u001b[1m281/281\u001b[0m \u001b[32m━━━━━━━━━━━━━━━━━━━━\u001b[0m\u001b[37m\u001b[0m \u001b[1m3s\u001b[0m 9ms/step - accuracy: 0.9523 - loss: 0.2179 - val_accuracy: 0.7435 - val_loss: 1.2114\n",
      "Epoch 5/10\n",
      "\u001b[1m281/281\u001b[0m \u001b[32m━━━━━━━━━━━━━━━━━━━━\u001b[0m\u001b[37m\u001b[0m \u001b[1m3s\u001b[0m 9ms/step - accuracy: 0.9564 - loss: 0.1705 - val_accuracy: 0.7329 - val_loss: 1.2694\n",
      "Epoch 6/10\n",
      "\u001b[1m281/281\u001b[0m \u001b[32m━━━━━━━━━━━━━━━━━━━━\u001b[0m\u001b[37m\u001b[0m \u001b[1m3s\u001b[0m 9ms/step - accuracy: 0.9588 - loss: 0.1522 - val_accuracy: 0.7373 - val_loss: 1.2063\n",
      "Epoch 7/10\n",
      "\u001b[1m281/281\u001b[0m \u001b[32m━━━━━━━━━━━━━━━━━━━━\u001b[0m\u001b[37m\u001b[0m \u001b[1m3s\u001b[0m 9ms/step - accuracy: 0.9583 - loss: 0.1292 - val_accuracy: 0.7418 - val_loss: 1.2453\n",
      "Epoch 8/10\n",
      "\u001b[1m281/281\u001b[0m \u001b[32m━━━━━━━━━━━━━━━━━━━━\u001b[0m\u001b[37m\u001b[0m \u001b[1m3s\u001b[0m 10ms/step - accuracy: 0.9605 - loss: 0.1232 - val_accuracy: 0.7293 - val_loss: 1.3682\n",
      "Epoch 9/10\n",
      "\u001b[1m281/281\u001b[0m \u001b[32m━━━━━━━━━━━━━━━━━━━━\u001b[0m\u001b[37m\u001b[0m \u001b[1m3s\u001b[0m 9ms/step - accuracy: 0.9614 - loss: 0.1085 - val_accuracy: 0.7382 - val_loss: 1.2707\n",
      "Epoch 10/10\n",
      "\u001b[1m281/281\u001b[0m \u001b[32m━━━━━━━━━━━━━━━━━━━━\u001b[0m\u001b[37m\u001b[0m \u001b[1m3s\u001b[0m 10ms/step - accuracy: 0.9621 - loss: 0.1024 - val_accuracy: 0.7275 - val_loss: 1.3462\n"
     ]
    }
   ],
   "source": [
    "# Entraînement du modèle de base\n",
    "history_1 = model_1.fit(train_padded, train_labels, epochs=10, batch_size=32, validation_data=(test_padded, test_labels))\n",
    "\n",
    "# Entraînement du modèle avec LSTM\n",
    "history_2 = model_2.fit(train_padded, train_labels, epochs=10, batch_size=32, validation_data=(test_padded, test_labels))\n",
    "\n",
    "# Entraînement du modèle avec Flatten\n",
    "history_3 = model_3.fit(train_padded, train_labels, epochs=10, batch_size=32, validation_data=(test_padded, test_labels))\n"
   ]
  },
  {
   "cell_type": "markdown",
   "metadata": {},
   "source": [
    "# Cherchons maintenant les meilleurs hyper paramètres pour notre modèle"
   ]
  },
  {
   "cell_type": "code",
   "execution_count": 28,
   "metadata": {},
   "outputs": [
    {
     "name": "stdout",
     "output_type": "stream",
     "text": [
      "Epoch 1/20\n",
      "141/141 - 2s - 15ms/step - accuracy: 0.5505 - loss: 1.8458 - val_accuracy: 0.6518 - val_loss: 1.4683\n",
      "Epoch 2/20\n",
      "141/141 - 2s - 11ms/step - accuracy: 0.7619 - loss: 1.0109 - val_accuracy: 0.7271 - val_loss: 1.2163\n",
      "Epoch 3/20\n",
      "141/141 - 2s - 11ms/step - accuracy: 0.8936 - loss: 0.4985 - val_accuracy: 0.7453 - val_loss: 1.1677\n",
      "Epoch 4/20\n",
      "141/141 - 2s - 12ms/step - accuracy: 0.9428 - loss: 0.2751 - val_accuracy: 0.7431 - val_loss: 1.1943\n",
      "Epoch 5/20\n",
      "141/141 - 2s - 11ms/step - accuracy: 0.9515 - loss: 0.2108 - val_accuracy: 0.7302 - val_loss: 1.2027\n",
      "Epoch 6/20\n",
      "141/141 - 2s - 12ms/step - accuracy: 0.9506 - loss: 0.1830 - val_accuracy: 0.7306 - val_loss: 1.2438\n",
      "Epoch 7/20\n",
      "141/141 - 2s - 11ms/step - accuracy: 0.9534 - loss: 0.1551 - val_accuracy: 0.7337 - val_loss: 1.2373\n",
      "Epoch 8/20\n",
      "141/141 - 2s - 11ms/step - accuracy: 0.9538 - loss: 0.1482 - val_accuracy: 0.7329 - val_loss: 1.1976\n",
      "Epoch 9/20\n",
      "141/141 - 2s - 11ms/step - accuracy: 0.9531 - loss: 0.1413 - val_accuracy: 0.7373 - val_loss: 1.2867\n",
      "Epoch 10/20\n",
      "141/141 - 2s - 11ms/step - accuracy: 0.9546 - loss: 0.1270 - val_accuracy: 0.7458 - val_loss: 1.2296\n",
      "Epoch 11/20\n",
      "141/141 - 2s - 12ms/step - accuracy: 0.9545 - loss: 0.1238 - val_accuracy: 0.7440 - val_loss: 1.2322\n",
      "Epoch 12/20\n",
      "141/141 - 2s - 12ms/step - accuracy: 0.9545 - loss: 0.1182 - val_accuracy: 0.7431 - val_loss: 1.1759\n",
      "Epoch 13/20\n",
      "141/141 - 2s - 12ms/step - accuracy: 0.9539 - loss: 0.1161 - val_accuracy: 0.7364 - val_loss: 1.2704\n",
      "Epoch 14/20\n",
      "141/141 - 2s - 12ms/step - accuracy: 0.9550 - loss: 0.1129 - val_accuracy: 0.7431 - val_loss: 1.1917\n",
      "Epoch 15/20\n",
      "141/141 - 2s - 12ms/step - accuracy: 0.9557 - loss: 0.1034 - val_accuracy: 0.7235 - val_loss: 1.3504\n",
      "Epoch 16/20\n",
      "141/141 - 2s - 12ms/step - accuracy: 0.9536 - loss: 0.1014 - val_accuracy: 0.7369 - val_loss: 1.2490\n",
      "Epoch 17/20\n",
      "141/141 - 2s - 12ms/step - accuracy: 0.9552 - loss: 0.1017 - val_accuracy: 0.7378 - val_loss: 1.2472\n",
      "Epoch 18/20\n",
      "141/141 - 2s - 12ms/step - accuracy: 0.9545 - loss: 0.0944 - val_accuracy: 0.7306 - val_loss: 1.2471\n",
      "Epoch 19/20\n",
      "141/141 - 2s - 12ms/step - accuracy: 0.9528 - loss: 0.0917 - val_accuracy: 0.7493 - val_loss: 1.2234\n",
      "Epoch 20/20\n",
      "141/141 - 2s - 12ms/step - accuracy: 0.9561 - loss: 0.0883 - val_accuracy: 0.7382 - val_loss: 1.3167\n"
     ]
    }
   ],
   "source": [
    "# Entraînement du modèle avec des hyperparamètres ajustés\n",
    "history = model_rnn.fit(train_padded, train_labels,\n",
    "                    epochs=20,       # Nombre d'époques\n",
    "                    batch_size=64,   # Taille du batch\n",
    "                    # Validation sur l'ensemble de validation\n",
    "                    validation_data=(test_padded, test_labels),\n",
    "                    verbose=2)       # Affichage détaillé"
   ]
  },
  {
   "cell_type": "code",
   "execution_count": 30,
   "metadata": {},
   "outputs": [
    {
     "name": "stdout",
     "output_type": "stream",
     "text": [
      "Epoch 1/20\n",
      "141/141 - 2s - 12ms/step - accuracy: 0.9548 - loss: 0.0886 - val_accuracy: 0.7391 - val_loss: 1.3609 - learning_rate: 0.0010\n",
      "Epoch 2/20\n",
      "141/141 - 2s - 11ms/step - accuracy: 0.9565 - loss: 0.0859 - val_accuracy: 0.7431 - val_loss: 1.3115 - learning_rate: 0.0010\n",
      "Epoch 3/20\n",
      "141/141 - 2s - 12ms/step - accuracy: 0.9548 - loss: 0.0863 - val_accuracy: 0.7373 - val_loss: 1.3154 - learning_rate: 0.0010\n",
      "Epoch 4/20\n",
      "141/141 - 2s - 12ms/step - accuracy: 0.9555 - loss: 0.0866 - val_accuracy: 0.7467 - val_loss: 1.2935 - learning_rate: 0.0010\n",
      "Epoch 5/20\n",
      "141/141 - 2s - 11ms/step - accuracy: 0.9565 - loss: 0.0783 - val_accuracy: 0.7337 - val_loss: 1.3911 - learning_rate: 0.0010\n",
      "Epoch 6/20\n",
      "141/141 - 2s - 12ms/step - accuracy: 0.9663 - loss: 0.0604 - val_accuracy: 0.7413 - val_loss: 1.4020 - learning_rate: 1.0000e-04\n",
      "Epoch 7/20\n",
      "141/141 - 2s - 12ms/step - accuracy: 0.9669 - loss: 0.0562 - val_accuracy: 0.7422 - val_loss: 1.4115 - learning_rate: 1.0000e-04\n",
      "Epoch 8/20\n",
      "141/141 - 2s - 11ms/step - accuracy: 0.9650 - loss: 0.0548 - val_accuracy: 0.7427 - val_loss: 1.4283 - learning_rate: 1.0000e-04\n",
      "Epoch 9/20\n",
      "141/141 - 2s - 12ms/step - accuracy: 0.9653 - loss: 0.0539 - val_accuracy: 0.7427 - val_loss: 1.4320 - learning_rate: 1.0000e-04\n",
      "Epoch 10/20\n",
      "141/141 - 2s - 12ms/step - accuracy: 0.9638 - loss: 0.0532 - val_accuracy: 0.7422 - val_loss: 1.4698 - learning_rate: 1.0000e-04\n",
      "Epoch 11/20\n",
      "141/141 - 2s - 11ms/step - accuracy: 0.9680 - loss: 0.0501 - val_accuracy: 0.7418 - val_loss: 1.4680 - learning_rate: 1.0000e-05\n",
      "Epoch 12/20\n",
      "141/141 - 2s - 12ms/step - accuracy: 0.9676 - loss: 0.0501 - val_accuracy: 0.7418 - val_loss: 1.4688 - learning_rate: 1.0000e-05\n",
      "Epoch 13/20\n",
      "141/141 - 2s - 12ms/step - accuracy: 0.9677 - loss: 0.0500 - val_accuracy: 0.7413 - val_loss: 1.4700 - learning_rate: 1.0000e-05\n",
      "Epoch 14/20\n",
      "141/141 - 2s - 12ms/step - accuracy: 0.9682 - loss: 0.0500 - val_accuracy: 0.7409 - val_loss: 1.4710 - learning_rate: 1.0000e-05\n",
      "Epoch 15/20\n",
      "141/141 - 2s - 12ms/step - accuracy: 0.9679 - loss: 0.0499 - val_accuracy: 0.7409 - val_loss: 1.4723 - learning_rate: 1.0000e-05\n",
      "Epoch 16/20\n",
      "141/141 - 2s - 11ms/step - accuracy: 0.9684 - loss: 0.0495 - val_accuracy: 0.7409 - val_loss: 1.4726 - learning_rate: 1.0000e-06\n",
      "Epoch 17/20\n",
      "141/141 - 2s - 11ms/step - accuracy: 0.9684 - loss: 0.0495 - val_accuracy: 0.7409 - val_loss: 1.4727 - learning_rate: 1.0000e-06\n",
      "Epoch 18/20\n",
      "141/141 - 2s - 12ms/step - accuracy: 0.9684 - loss: 0.0495 - val_accuracy: 0.7409 - val_loss: 1.4731 - learning_rate: 1.0000e-06\n",
      "Epoch 19/20\n",
      "141/141 - 2s - 12ms/step - accuracy: 0.9683 - loss: 0.0495 - val_accuracy: 0.7409 - val_loss: 1.4733 - learning_rate: 1.0000e-06\n",
      "Epoch 20/20\n",
      "141/141 - 2s - 12ms/step - accuracy: 0.9684 - loss: 0.0495 - val_accuracy: 0.7409 - val_loss: 1.4736 - learning_rate: 1.0000e-06\n"
     ]
    }
   ],
   "source": [
    "from tensorflow.keras.callbacks import LearningRateScheduler\n",
    "\n",
    "# Définir un planificateur de taux d'apprentissage (par exemple, diviser par 10 tous les 5 époques)\n",
    "\n",
    "\n",
    "def scheduler(epoch, lr):\n",
    "    if epoch % 5 == 0 and epoch > 0:\n",
    "        return lr * 0.1  # Diviser le taux d'apprentissage par 10\n",
    "    return lr\n",
    "\n",
    "\n",
    "# Appliquer le planificateur lors de l'entraînement\n",
    "lr_scheduler = LearningRateScheduler(scheduler)\n",
    "\n",
    "# Entraîner avec le planificateur\n",
    "history = model_rnn.fit(train_padded, train_labels,\n",
    "                    epochs=20,\n",
    "                    batch_size=64,\n",
    "                    validation_data=(test_padded, test_labels),\n",
    "                    verbose=2,\n",
    "                    callbacks=[lr_scheduler])  # Utiliser le planificateur"
   ]
  },
  {
   "cell_type": "code",
   "execution_count": 31,
   "metadata": {},
   "outputs": [
    {
     "name": "stdout",
     "output_type": "stream",
     "text": [
      "Epoch 1/20\n",
      "141/141 - 2s - 12ms/step - accuracy: 0.9683 - loss: 0.0495 - val_accuracy: 0.7409 - val_loss: 1.4738\n",
      "Epoch 2/20\n",
      "141/141 - 2s - 12ms/step - accuracy: 0.9682 - loss: 0.0495 - val_accuracy: 0.7409 - val_loss: 1.4740\n",
      "Epoch 3/20\n",
      "141/141 - 2s - 12ms/step - accuracy: 0.9683 - loss: 0.0495 - val_accuracy: 0.7409 - val_loss: 1.4742\n",
      "Epoch 4/20\n",
      "141/141 - 2s - 11ms/step - accuracy: 0.9684 - loss: 0.0495 - val_accuracy: 0.7409 - val_loss: 1.4746\n"
     ]
    }
   ],
   "source": [
    "from tensorflow.keras.callbacks import EarlyStopping\n",
    "\n",
    "# Définir l'early stopping pour arrêter l'entraînement si la validation n'améliore plus la performance\n",
    "early_stopping = EarlyStopping(\n",
    "    monitor='val_loss', patience=3, restore_best_weights=True)\n",
    "\n",
    "history = model_rnn.fit(train_padded, train_labels,\n",
    "                        epochs=20,\n",
    "                        batch_size=64,\n",
    "                        validation_data=(test_padded, test_labels),\n",
    "                        verbose=2,\n",
    "                        callbacks=[early_stopping])  # Utiliser le planificateur"
   ]
  }
 ],
 "metadata": {
  "kernelspec": {
   "display_name": "Python 3",
   "language": "python",
   "name": "python3"
  },
  "language_info": {
   "codemirror_mode": {
    "name": "ipython",
    "version": 3
   },
   "file_extension": ".py",
   "mimetype": "text/x-python",
   "name": "python",
   "nbconvert_exporter": "python",
   "pygments_lexer": "ipython3",
   "version": "3.12.0"
  }
 },
 "nbformat": 4,
 "nbformat_minor": 2
}
