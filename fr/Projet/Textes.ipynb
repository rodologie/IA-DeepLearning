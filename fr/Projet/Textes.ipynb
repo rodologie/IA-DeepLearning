{
 "cells": [
  {
   "cell_type": "markdown",
   "metadata": {
    "id": "kAMM4wjJoVqG"
   },
   "source": [
    "# Classification of text"
   ]
  },
  {
   "cell_type": "code",
   "execution_count": 1,
   "metadata": {
    "id": "6-6PH0F0a6pV"
   },
   "outputs": [],
   "source": [
    "import tensorflow as tf\n",
    "\n",
    "import tensorflow_datasets as tfds"
   ]
  },
  {
   "cell_type": "markdown",
   "metadata": {
    "id": "2Y-ZPsqJoaPa"
   },
   "source": [
    "## Dataset information"
   ]
  },
  {
   "cell_type": "code",
   "execution_count": 2,
   "metadata": {
    "colab": {
     "base_uri": "https://localhost:8080/"
    },
    "id": "Brllks7VdDt8",
    "outputId": "6f1122df-fb5a-4c6e-e97f-b330bdceaacb"
   },
   "outputs": [
    {
     "name": "stdout",
     "output_type": "stream",
     "text": [
      "tfds.core.DatasetInfo(\n",
      "    name='imdb_reviews',\n",
      "    version=1.0.0,\n",
      "    description='Large Movie Review Dataset.\n",
      "This is a dataset for binary sentiment classification containing substantially more data than previous benchmark datasets. We provide a set of 25,000 highly polar movie reviews for training, and 25,000 for testing. There is additional unlabeled data for use as well.',\n",
      "    homepage='http://ai.stanford.edu/~amaas/data/sentiment/',\n",
      "    features=FeaturesDict({\n",
      "        'label': ClassLabel(shape=(), dtype=tf.int64, num_classes=2),\n",
      "        'text': Text(shape=(), dtype=tf.string),\n",
      "    }),\n",
      "    total_num_examples=100000,\n",
      "    splits={\n",
      "        'test': 25000,\n",
      "        'train': 25000,\n",
      "        'unsupervised': 50000,\n",
      "    },\n",
      "    supervised_keys=('text', 'label'),\n",
      "    citation=\"\"\"@InProceedings{maas-EtAl:2011:ACL-HLT2011,\n",
      "      author    = {Maas, Andrew L.  and  Daly, Raymond E.  and  Pham, Peter T.  and  Huang, Dan  and  Ng, Andrew Y.  and  Potts, Christopher},\n",
      "      title     = {Learning Word Vectors for Sentiment Analysis},\n",
      "      booktitle = {Proceedings of the 49th Annual Meeting of the Association for Computational Linguistics: Human Language Technologies},\n",
      "      month     = {June},\n",
      "      year      = {2011},\n",
      "      address   = {Portland, Oregon, USA},\n",
      "      publisher = {Association for Computational Linguistics},\n",
      "      pages     = {142--150},\n",
      "      url       = {http://www.aclweb.org/anthology/P11-1015}\n",
      "    }\"\"\",\n",
      "    redistribution_info=,\n",
      ")\n",
      "\n"
     ]
    }
   ],
   "source": [
    "builder = tfds.builder(\"imdb_reviews\")\n",
    "print(builder.info)"
   ]
  },
  {
   "cell_type": "markdown",
   "metadata": {
    "id": "Cit-C7pxoi-V"
   },
   "source": [
    "## Features"
   ]
  },
  {
   "cell_type": "code",
   "execution_count": 3,
   "metadata": {
    "colab": {
     "base_uri": "https://localhost:8080/"
    },
    "id": "B7aAzHEIdMtR",
    "outputId": "2e314fb9-3563-4006-f756-1f7c2fe16cdd"
   },
   "outputs": [
    {
     "name": "stdout",
     "output_type": "stream",
     "text": [
      "Features: FeaturesDict({\n",
      "    'label': ClassLabel(shape=(), dtype=tf.int64, num_classes=2),\n",
      "    'text': Text(shape=(), dtype=tf.string),\n",
      "})\n",
      "Features shape: {'text': (), 'label': ()}\n",
      "Label type: <dtype: 'int64'>\n",
      "Number of classes: 2\n"
     ]
    }
   ],
   "source": [
    "builder = tfds.builder(\"imdb_reviews\")\n",
    "\n",
    "# Features\n",
    "print(f\"Features: {{0}}\".format(builder.info.features))\n",
    "\n",
    "# shape\n",
    "print(f\"Features shape: {{0}}\".format(builder.info.features.shape))\n",
    "\n",
    "# type of label\n",
    "print(f\"Label type: {{0}}\".format(builder.info.features[\"label\"].dtype))\n",
    "\n",
    "# number of classes\n",
    "print(f\"Number of classes: {{0}}\".format(builder.info.features[\"label\"].num_classes))"
   ]
  },
  {
   "cell_type": "markdown",
   "metadata": {
    "id": "skkmXqFholkC"
   },
   "source": [
    "## Downloading dataset"
   ]
  },
  {
   "cell_type": "code",
   "execution_count": 4,
   "metadata": {
    "id": "NfKJ966UV7Bb"
   },
   "outputs": [],
   "source": [
    "ds, info = tfds.load(\"imdb_reviews\", split=\"train\", with_info=True, try_gcs=True)"
   ]
  },
  {
   "cell_type": "markdown",
   "metadata": {
    "id": "DGEPuw8moqPx"
   },
   "source": [
    "## Displaying Text and Label"
   ]
  },
  {
   "cell_type": "code",
   "execution_count": 5,
   "metadata": {
    "colab": {
     "base_uri": "https://localhost:8080/",
     "height": 114
    },
    "id": "Kx7O-NyTWRza",
    "outputId": "d0c00bfe-5bb5-4530-832b-e60e0aa285f8"
   },
   "outputs": [
    {
     "data": {
      "text/html": [
       "<style  type=\"text/css\" >\n",
       "</style><table id=\"T_c2dfd4ee_30b8_11eb_939f_0242ac1c0002\" ><thead>    <tr>        <th class=\"blank level0\" ></th>        <th class=\"col_heading level0 col0\" >label</th>        <th class=\"col_heading level0 col1\" >text</th>    </tr></thead><tbody>\n",
       "                <tr>\n",
       "                        <th id=\"T_c2dfd4ee_30b8_11eb_939f_0242ac1c0002level0_row0\" class=\"row_heading level0 row0\" >0</th>\n",
       "                        <td id=\"T_c2dfd4ee_30b8_11eb_939f_0242ac1c0002row0_col0\" class=\"data row0 col0\" >0 (neg)</td>\n",
       "                        <td id=\"T_c2dfd4ee_30b8_11eb_939f_0242ac1c0002row0_col1\" class=\"data row0 col1\" >This was an absolutely terrible movie. Don&#x27;t be lured in by Christopher Walken or Michael Ironside. Both are great actors, but this must simply be their worst role in history. Even their great acting could not redeem this movie&#x27;s ridiculous storyline. This movie is an early nineties US propaganda piece. The most pathetic scenes were those when the Columbian rebels were making their cases for revolutions. Maria Conchita Alonso appeared phony, and her pseudo-love affair with Walken was nothing but a pathetic emotional plug in a movie that was devoid of any real meaning. I am disappointed that there are movies like this, ruining actor&#x27;s like Christopher Walken&#x27;s good name. I could barely sit through it.</td>\n",
       "            </tr>\n",
       "    </tbody></table>"
      ],
      "text/plain": [
       "   label                                               text\n",
       "0      0  b\"This was an absolutely terrible movie. Don't..."
      ]
     },
     "execution_count": 5,
     "metadata": {
      "tags": []
     },
     "output_type": "execute_result"
    }
   ],
   "source": [
    "tfds.as_dataframe(ds.take(1), info)"
   ]
  },
  {
   "cell_type": "code",
   "execution_count": 6,
   "metadata": {
    "id": "tIPYOUF_WYUT"
   },
   "outputs": [],
   "source": [
    "(ds_train, ds_test), info = tfds.load(\n",
    "    \"imdb_reviews\", split=[\"train\", \"test\"], with_info=True, as_supervised=True\n",
    ")"
   ]
  },
  {
   "cell_type": "code",
   "execution_count": 7,
   "metadata": {
    "colab": {
     "base_uri": "https://localhost:8080/"
    },
    "id": "3BSx4WZWYJFs",
    "outputId": "349d3a34-f480-4e07-cb03-2f336c85a030"
   },
   "outputs": [
    {
     "name": "stdout",
     "output_type": "stream",
     "text": [
      "(TensorSpec(shape=(), dtype=tf.string, name=None), TensorSpec(shape=(), dtype=tf.int64, name=None))\n"
     ]
    }
   ],
   "source": [
    "print(ds_train.element_spec)"
   ]
  },
  {
   "cell_type": "markdown",
   "metadata": {
    "id": "BHZBfH8OowKq"
   },
   "source": [
    "## Text Vectorization"
   ]
  },
  {
   "cell_type": "code",
   "execution_count": 8,
   "metadata": {
    "id": "BeC7-QG9Yp0P"
   },
   "outputs": [],
   "source": [
    "vocabulary_size = 1000\n",
    "encoder = tf.keras.layers.TextVectorization(\n",
    "    max_tokens=vocabulary_size\n",
    ")\n",
    "encoder.adapt(ds_train.map(lambda text, label: text))"
   ]
  },
  {
   "cell_type": "code",
   "execution_count": 9,
   "metadata": {
    "colab": {
     "base_uri": "https://localhost:8080/"
    },
    "id": "xAsqoqy0ZjSz",
    "outputId": "9e2f479c-7708-4aae-e1e3-49c8b3f3a10b"
   },
   "outputs": [
    {
     "name": "stdout",
     "output_type": "stream",
     "text": [
      "['', '[UNK]', 'the', 'and', 'a', 'of', 'to', 'is', 'in', 'it', 'i', 'this', 'that', 'br', 'was', 'as', 'for', 'with', 'movie', 'but']\n"
     ]
    }
   ],
   "source": [
    "vocabulary = encoder.get_vocabulary()\n",
    "print(vocabulary[:20])"
   ]
  },
  {
   "cell_type": "code",
   "execution_count": 10,
   "metadata": {
    "colab": {
     "base_uri": "https://localhost:8080/"
    },
    "id": "drosVvrUaToH",
    "outputId": "45df540c-e743-4670-a146-5e9e6cea9e15"
   },
   "outputs": [
    {
     "name": "stdout",
     "output_type": "stream",
     "text": [
      "1000\n"
     ]
    }
   ],
   "source": [
    "print(len(encoder.get_vocabulary()))"
   ]
  },
  {
   "cell_type": "code",
   "execution_count": 11,
   "metadata": {
    "colab": {
     "base_uri": "https://localhost:8080/"
    },
    "id": "r6sTBb1wluUa",
    "outputId": "96bd5e33-99e5-4ab7-a632-e6411703ef8b"
   },
   "outputs": [
    {
     "name": "stdout",
     "output_type": "stream",
     "text": [
      "tf.Tensor([927], shape=(1,), dtype=int64)\n"
     ]
    }
   ],
   "source": [
    "print(encoder(\"incredibly\"))"
   ]
  },
  {
   "cell_type": "markdown",
   "metadata": {
    "id": "e7GG1wsRo0YX"
   },
   "source": [
    "## Building Training Model"
   ]
  },
  {
   "cell_type": "code",
   "execution_count": 12,
   "metadata": {
    "id": "kuJsGqy-aPvV"
   },
   "outputs": [],
   "source": [
    "model = tf.keras.Sequential(\n",
    "    [\n",
    "        encoder,\n",
    "        tf.keras.layers.Embedding(\n",
    "            input_dim=len(encoder.get_vocabulary()), output_dim=64, mask_zero=True\n",
    "        ),\n",
    "        tf.keras.layers.Bidirectional(tf.keras.layers.LSTM(64)),\n",
    "        tf.keras.layers.Dense(64, activation=\"relu\"),\n",
    "        tf.keras.layers.Dense(1),\n",
    "    ]\n",
    ")"
   ]
  },
  {
   "cell_type": "code",
   "execution_count": 13,
   "metadata": {
    "id": "dFLFKuE6bmlC"
   },
   "outputs": [],
   "source": [
    "model.compile(\n",
    "    loss=tf.keras.losses.BinaryCrossentropy(from_logits=True),\n",
    "    optimizer=tf.keras.optimizers.Adam(1e-4),\n",
    "    metrics=[\"accuracy\"],\n",
    ")"
   ]
  },
  {
   "cell_type": "markdown",
   "metadata": {
    "id": "uM1xwQWVo4kB"
   },
   "source": [
    "### Visualizing Model"
   ]
  },
  {
   "cell_type": "markdown",
   "metadata": {
    "id": "kbrhq0N3o9rq"
   },
   "source": [
    "## Training"
   ]
  },
  {
   "cell_type": "code",
   "execution_count": 14,
   "metadata": {
    "colab": {
     "base_uri": "https://localhost:8080/"
    },
    "id": "ge6mjQ49bqKs",
    "outputId": "57e729c5-dc51-4985-b8c7-a55d738fc31c"
   },
   "outputs": [
    {
     "name": "stdout",
     "output_type": "stream",
     "text": [
      "Epoch 1/10\n",
      "196/196 [==============================] - 63s 322ms/step - loss: 0.6842 - accuracy: 0.5019 - val_loss: 0.5997 - val_accuracy: 0.6341\n",
      "Epoch 2/10\n",
      "196/196 [==============================] - 60s 308ms/step - loss: 0.4856 - accuracy: 0.7404 - val_loss: 0.4229 - val_accuracy: 0.7914\n",
      "Epoch 3/10\n",
      "196/196 [==============================] - 60s 307ms/step - loss: 0.4005 - accuracy: 0.8178 - val_loss: 0.3746 - val_accuracy: 0.8302\n",
      "Epoch 4/10\n",
      "196/196 [==============================] - 60s 307ms/step - loss: 0.3622 - accuracy: 0.8428 - val_loss: 0.3532 - val_accuracy: 0.8451\n",
      "Epoch 5/10\n",
      "196/196 [==============================] - 60s 308ms/step - loss: 0.3374 - accuracy: 0.8551 - val_loss: 0.3360 - val_accuracy: 0.8492\n",
      "Epoch 6/10\n",
      "196/196 [==============================] - 60s 307ms/step - loss: 0.3219 - accuracy: 0.8624 - val_loss: 0.3273 - val_accuracy: 0.8510\n",
      "Epoch 7/10\n",
      "196/196 [==============================] - 60s 307ms/step - loss: 0.3130 - accuracy: 0.8668 - val_loss: 0.3231 - val_accuracy: 0.8544\n",
      "Epoch 8/10\n",
      "196/196 [==============================] - 60s 308ms/step - loss: 0.3071 - accuracy: 0.8698 - val_loss: 0.3197 - val_accuracy: 0.8508\n",
      "Epoch 9/10\n",
      "196/196 [==============================] - 60s 307ms/step - loss: 0.3028 - accuracy: 0.8714 - val_loss: 0.3187 - val_accuracy: 0.8529\n",
      "Epoch 10/10\n",
      "196/196 [==============================] - 60s 307ms/step - loss: 0.3000 - accuracy: 0.8736 - val_loss: 0.3186 - val_accuracy: 0.8557\n"
     ]
    }
   ],
   "source": [
    "(ds_train, ds_test), info = tfds.load(\n",
    "    \"imdb_reviews\", split=[\"train\", \"test\"], with_info=True, as_supervised=True\n",
    ")\n",
    "\n",
    "ds_train = ds_train.batch(128)\n",
    "ds_test = ds_test.batch(128)\n",
    "\n",
    "\n",
    "history = model.fit(ds_train, epochs=10, validation_data=ds_test, validation_steps=30)"
   ]
  },
  {
   "cell_type": "code",
   "execution_count": 15,
   "metadata": {
    "colab": {
     "base_uri": "https://localhost:8080/"
    },
    "id": "gk763hFZklOC",
    "outputId": "d412dce8-1213-4b6c-b95c-a5dd69d63035"
   },
   "outputs": [
    {
     "name": "stdout",
     "output_type": "stream",
     "text": [
      "Model: \"sequential\"\n",
      "_________________________________________________________________\n",
      "Layer (type)                 Output Shape              Param #   \n",
      "=================================================================\n",
      "text_vectorization (TextVect (None, None)              0         \n",
      "_________________________________________________________________\n",
      "embedding (Embedding)        (None, None, 64)          64000     \n",
      "_________________________________________________________________\n",
      "bidirectional (Bidirectional (None, 128)               66048     \n",
      "_________________________________________________________________\n",
      "dense (Dense)                (None, 64)                8256      \n",
      "_________________________________________________________________\n",
      "dense_1 (Dense)              (None, 1)                 65        \n",
      "=================================================================\n",
      "Total params: 138,369\n",
      "Trainable params: 138,369\n",
      "Non-trainable params: 0\n",
      "_________________________________________________________________\n",
      "None\n"
     ]
    }
   ],
   "source": [
    "print(model.summary())"
   ]
  },
  {
   "cell_type": "code",
   "execution_count": 16,
   "metadata": {
    "colab": {
     "base_uri": "https://localhost:8080/",
     "height": 644
    },
    "id": "2OOmNKy6kmCX",
    "outputId": "cef4702e-13a6-486a-d04e-d54c7e1f77db"
   },
   "outputs": [
    {
     "data": {
      "image/png": "[encoded data removed]",
      "text/plain": [
       "<IPython.core.display.Image object>"
      ]
     },
     "execution_count": 16,
     "metadata": {
      "tags": []
     },
     "output_type": "execute_result"
    }
   ],
   "source": [
    "from tensorflow.keras.utils import plot_model\n",
    "\n",
    "plot_model(model, show_shapes=True)"
   ]
  },
  {
   "cell_type": "markdown",
   "metadata": {
    "id": "iwujxZmZpAya"
   },
   "source": [
    "## Visualizing the Training History"
   ]
  },
  {
   "cell_type": "code",
   "execution_count": 17,
   "metadata": {
    "colab": {
     "base_uri": "https://localhost:8080/",
     "height": 313
    },
    "id": "RbOtGqNAf0y1",
    "outputId": "0d7ae972-5066-4277-da72-20af8b8dbc8f"
   },
   "outputs": [
    {
     "data": {
      "text/plain": [
       "Text(0.5, 1.0, 'History of Training and Validation Accuracy across epochs')"
      ]
     },
     "execution_count": 17,
     "metadata": {
      "tags": []
     },
     "output_type": "execute_result"
    },
    {
     "data": {
      "image/png": "[encoded data removed]",
      "text/plain": [
       "<Figure size 432x288 with 1 Axes>"
      ]
     },
     "metadata": {
      "needs_background": "light",
      "tags": []
     },
     "output_type": "display_data"
    }
   ],
   "source": [
    "import matplotlib.pyplot as plot\n",
    "\n",
    "plot.plot(history.history[\"accuracy\"], label=\"Training\")\n",
    "plot.plot(history.history[\"val_accuracy\"], label=\"Validation\")\n",
    "plot.legend(loc=\"upper left\")\n",
    "plot.ylabel(\"Accuracy\")\n",
    "plot.xlabel(\"Number of Epochs\")\n",
    "plot.title(\"History of Training and Validation Accuracy across epochs\")"
   ]
  },
  {
   "cell_type": "code",
   "execution_count": 18,
   "metadata": {
    "colab": {
     "base_uri": "https://localhost:8080/",
     "height": 313
    },
    "id": "LKHORPyJf5VU",
    "outputId": "c1b7fc3e-9436-4e27-8bbb-70f064c1c275"
   },
   "outputs": [
    {
     "data": {
      "text/plain": [
       "Text(0.5, 1.0, 'History of Training and Validation Loss across epochs')"
      ]
     },
     "execution_count": 18,
     "metadata": {
      "tags": []
     },
     "output_type": "execute_result"
    },
    {
     "data": {
      "image/png": "[encoded data removed]",
      "text/plain": [
       "<Figure size 432x288 with 1 Axes>"
      ]
     },
     "metadata": {
      "needs_background": "light",
      "tags": []
     },
     "output_type": "display_data"
    }
   ],
   "source": [
    "plot.plot(history.history[\"loss\"], label=\"Training\")\n",
    "plot.plot(history.history[\"val_loss\"], label=\"Validation\")\n",
    "plot.legend(loc=\"upper left\")\n",
    "plot.ylabel(\"Loss\")\n",
    "plot.xlabel(\"Number of Epochs\")\n",
    "plot.title(\"History of Training and Validation Loss across epochs\")"
   ]
  },
  {
   "cell_type": "markdown",
   "metadata": {
    "id": "AW-YZMtTpFnp"
   },
   "source": [
    "## Evaluating the Model"
   ]
  },
  {
   "cell_type": "code",
   "execution_count": 19,
   "metadata": {
    "colab": {
     "base_uri": "https://localhost:8080/"
    },
    "id": "sY4idmhyf-Hh",
    "outputId": "8fc2b55f-f6c9-46ea-9d3b-8a6028b04004"
   },
   "outputs": [
    {
     "name": "stdout",
     "output_type": "stream",
     "text": [
      "accuracy: 0.8560400009155273 and loss:0.31955674290657043\n"
     ]
    }
   ],
   "source": [
    "loss, accuracy = model.evaluate(ds_test, verbose=0)\n",
    "print(f\"accuracy: {accuracy} and loss:{loss}\")"
   ]
  }
 ],
 "metadata": {
  "accelerator": "GPU",
  "colab": {
   "name": "Textes.ipynb",
   "provenance": []
  },
  "kernelspec": {
   "display_name": "Python 3 (ipykernel)",
   "language": "python",
   "name": "python3"
  },
  "language_info": {
   "codemirror_mode": {
    "name": "ipython",
    "version": 3
   },
   "file_extension": ".py",
   "mimetype": "text/x-python",
   "name": "python",
   "nbconvert_exporter": "python",
   "pygments_lexer": "ipython3",
   "version": "3.10.12"
  }
 },
 "nbformat": 4,
 "nbformat_minor": 4
}
